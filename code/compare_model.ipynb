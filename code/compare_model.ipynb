{
 "cells": [
  {
   "cell_type": "code",
   "execution_count": 34,
   "metadata": {},
   "outputs": [],
   "source": [
    "import pandas as pd\n",
    "import numpy as np\n",
    "import matplotlib.pyplot as plt\n",
    "import seaborn as sns"
   ]
  },
  {
   "cell_type": "markdown",
   "metadata": {},
   "source": [
    "### Reading other group's dataset"
   ]
  },
  {
   "cell_type": "code",
   "execution_count": 35,
   "metadata": {},
   "outputs": [
    {
     "data": {
      "text/html": [
       "<div>\n",
       "<style scoped>\n",
       "    .dataframe tbody tr th:only-of-type {\n",
       "        vertical-align: middle;\n",
       "    }\n",
       "\n",
       "    .dataframe tbody tr th {\n",
       "        vertical-align: top;\n",
       "    }\n",
       "\n",
       "    .dataframe thead th {\n",
       "        text-align: right;\n",
       "    }\n",
       "</style>\n",
       "<table border=\"1\" class=\"dataframe\">\n",
       "  <thead>\n",
       "    <tr style=\"text-align: right;\">\n",
       "      <th></th>\n",
       "      <th>id</th>\n",
       "      <th>name</th>\n",
       "      <th>nutriscore</th>\n",
       "      <th>energy</th>\n",
       "      <th>fat_g</th>\n",
       "      <th>sugar_g</th>\n",
       "      <th>sodium_mg</th>\n",
       "      <th>perc_fruit</th>\n",
       "      <th>fibers_g</th>\n",
       "      <th>proteins_g</th>\n",
       "    </tr>\n",
       "  </thead>\n",
       "  <tbody>\n",
       "    <tr>\n",
       "      <th>0</th>\n",
       "      <td>3168930010265</td>\n",
       "      <td>Cruesli Mélange De Noix</td>\n",
       "      <td>a</td>\n",
       "      <td>1933.008</td>\n",
       "      <td>19.0</td>\n",
       "      <td>12.0</td>\n",
       "      <td>0.0</td>\n",
       "      <td>0.0</td>\n",
       "      <td>10.0</td>\n",
       "      <td>8.5</td>\n",
       "    </tr>\n",
       "    <tr>\n",
       "      <th>1</th>\n",
       "      <td>80135463</td>\n",
       "      <td>NaN</td>\n",
       "      <td>e</td>\n",
       "      <td>2255.176</td>\n",
       "      <td>30.9</td>\n",
       "      <td>56.3</td>\n",
       "      <td>42.8</td>\n",
       "      <td>0.0</td>\n",
       "      <td>0.0</td>\n",
       "      <td>6.3</td>\n",
       "    </tr>\n",
       "  </tbody>\n",
       "</table>\n",
       "</div>"
      ],
      "text/plain": [
       "              id                     name nutriscore    energy  fat_g  \\\n",
       "0  3168930010265  Cruesli Mélange De Noix          a  1933.008   19.0   \n",
       "1       80135463                      NaN          e  2255.176   30.9   \n",
       "\n",
       "   sugar_g  sodium_mg  perc_fruit  fibers_g  proteins_g  \n",
       "0     12.0        0.0         0.0      10.0         8.5  \n",
       "1     56.3       42.8         0.0       0.0         6.3  "
      ]
     },
     "execution_count": 35,
     "metadata": {},
     "output_type": "execute_result"
    }
   ],
   "source": [
    "df = pd.read_csv('../data/data.csv', sep=';')\n",
    "df.head(2)"
   ]
  },
  {
   "cell_type": "code",
   "execution_count": 36,
   "metadata": {},
   "outputs": [],
   "source": [
    "# ignoring the beverages / non-solid foods\n",
    "filter_words = ['beverages', 'dairy', 'sauces']\n",
    "refined_df = df[~df['name'].str.contains('|'.join(filter_words), case=False, na=False)]\n",
    "# refined_df.to_csv('../data/other_group_v2.csv', index = False)"
   ]
  },
  {
   "cell_type": "markdown",
   "metadata": {},
   "source": [
    "### Preprocessing on their data"
   ]
  },
  {
   "cell_type": "code",
   "execution_count": 37,
   "metadata": {},
   "outputs": [],
   "source": [
    "def get_points(bounds, value, fruit_flag=False):\n",
    "    if fruit_flag:\n",
    "        if value > 80:\n",
    "            return 5\n",
    "    for i in range(len(bounds) - 1):\n",
    "        if bounds[i] < value <= bounds[i + 1]:\n",
    "            return i\n",
    "    return len(bounds) - 1 if value > bounds[-1] else 0"
   ]
  },
  {
   "cell_type": "code",
   "execution_count": 38,
   "metadata": {},
   "outputs": [],
   "source": [
    "def CalculatePoints(product):\n",
    "    '''\n",
    "    Define the bounds for each of the four categories for negative nutrients and positive nutrients\n",
    "    '''\n",
    "    # negative nutrients: energy, sugar, sodium, saturated fatty acid\n",
    "    energy_bounds = [0, 335, 670, 1005, 1340, 1675, 2010, 2345, 2680, 3015, 3350]\n",
    "    sugars_bounds = [0, 4.5, 9, 13.5, 18, 22.5, 27, 31.5, 36, 40.5, 45]\n",
    "    sodium_bounds = [0, 90, 180, 270, 360, 450, 540, 630, 720, 810, 900]\n",
    "    saturated_fatty_acid_bounds = [0, 1, 2, 3, 4, 5, 6, 7, 8, 9, 10]\n",
    "    # positive nutrients: fruit, fiber, protein\n",
    "    fruit_bounds = [0, 40, 60, 80, 100]\n",
    "    fiber_bounds = [0, 0.9, 1.9, 2.8, 3.7, 4.7]\n",
    "    proteins_bounds = [0, 1.6, 3.2, 4.8, 6.4, 8.0]\n",
    "\n",
    "    # Find the points for each of the four categories for negative nutrients\n",
    "    energy_points = get_points(energy_bounds, product['energy'])\n",
    "    sugars_points = get_points(sugars_bounds, product['sugar_g'])\n",
    "    sodium_points = get_points(sodium_bounds, product['sodium_mg'])\n",
    "    saturated_fatty_acid_points = get_points(saturated_fatty_acid_bounds, product['fat_g'])\n",
    "\n",
    "    # find the points for the positive nutrients\n",
    "    fruit_points = get_points(fruit_bounds, product['perc_fruit'], fruit_flag=True)\n",
    "    fiber_points = get_points(fiber_bounds, product['fibers_g'])\n",
    "    protein_points = get_points(proteins_bounds, product['proteins_g'])\n",
    "\n",
    "    # append the points to the dataframe\n",
    "    product['energy_points'] = energy_points\n",
    "    product['sugars_points'] = sugars_points\n",
    "    product['sodium_points'] = sodium_points\n",
    "    product['saturated_fat_points'] = saturated_fatty_acid_points\n",
    "    product['fruit_points'] = fruit_points\n",
    "    product['fiber_points'] = fiber_points\n",
    "    product['proteins_points'] = protein_points\n",
    "\n",
    "    return product"
   ]
  },
  {
   "cell_type": "code",
   "execution_count": 39,
   "metadata": {},
   "outputs": [],
   "source": [
    "# Obtaining the points\n",
    "# t1 = pd.read_csv('../data/other_group_v2.csv')\n",
    "t2 = refined_df.apply(CalculatePoints, axis = 1)\n",
    "\n",
    "t2 = t2.drop_duplicates()\n",
    "t2 = t2.dropna(how = 'any')\n",
    "t2.to_csv('../data/other_group_preprocessed_points.csv', index = False)"
   ]
  },
  {
   "cell_type": "markdown",
   "metadata": {},
   "source": [
    "### Defining additive model "
   ]
  },
  {
   "cell_type": "code",
   "execution_count": 40,
   "metadata": {},
   "outputs": [],
   "source": [
    "en = \"energy_points\"\n",
    "su = \"sugars_points\"\n",
    "fa = \"saturated_fat_points\"\n",
    "sa = \"sodium_points\"\n",
    "pr = \"proteins_points\"\n",
    "fi = \"fiber_points\"\n",
    "fr = \"fruit_points\"\n",
    "\n",
    "criteria_to_minimize = {en, su, fa, sa}\n",
    "criteria_to_maximize = {pr, fi, fr}"
   ]
  },
  {
   "cell_type": "code",
   "execution_count": 41,
   "metadata": {},
   "outputs": [],
   "source": [
    "# Additive model \n",
    "def new_scale_transform(df):\n",
    "    \"\"\"\n",
    "    Defines a new transformed scale for each criterion:\n",
    "    1. x'_i = 10 - x_i for the criteria to be minimized i ∈ {en, su, fa, sa}\n",
    "    2. x'_i = 2 * x_i for the criteria to be maximized i ∈ {pr, fi, fr}\n",
    "    \"\"\"\n",
    "    for column in df.columns:\n",
    "        if column in criteria_to_minimize:\n",
    "            df[column] = 10 - df[column]\n",
    "        elif column in criteria_to_maximize:\n",
    "            df[column] = 2 * df[column]\n",
    "    return df"
   ]
  },
  {
   "cell_type": "code",
   "execution_count": 42,
   "metadata": {},
   "outputs": [],
   "source": [
    "def our_model(df):\n",
    "    # 40 − F(x) = 40 - F(x'_en, x'_su, x'_fa, x'_sa, x'_pr, x'_fi, x'_fr) = 40 - x'_en + x'_su + x'_fa + x'_sa + 1/2(x'_pr + x'_fi) + x'fr\n",
    "    return 15.75 - (0.5*df[en] + 0.1*df[su] + 0.4*df[fa] + 0.35*df[sa] + 0.2*df[pr] + 0.3*df[fi] - 0.05*df[fr])"
   ]
  },
  {
   "cell_type": "code",
   "execution_count": 43,
   "metadata": {},
   "outputs": [],
   "source": [
    "def normal_model_labels(df):\n",
    "    score = df['our_nutrition_score']\n",
    "    return np.where(score < 0, 'a',\n",
    "                    np.where(score <= 1 , 'b',\n",
    "                                np.where(score < 11/ 3.075, 'c',\n",
    "                                        np.where(score < 19/ 3.075, 'd',\n",
    "                                                np.where(score <= 40/ 3.075, 'e', 'ERROR')))))"
   ]
  },
  {
   "cell_type": "code",
   "execution_count": null,
   "metadata": {},
   "outputs": [],
   "source": []
  },
  {
   "cell_type": "markdown",
   "metadata": {},
   "source": [
    "### Running additive model on their data"
   ]
  },
  {
   "cell_type": "code",
   "execution_count": 44,
   "metadata": {},
   "outputs": [],
   "source": [
    "df = pd.read_csv('../data/other_group_preprocessed_points.csv')"
   ]
  },
  {
   "cell_type": "code",
   "execution_count": 45,
   "metadata": {},
   "outputs": [
    {
     "data": {
      "text/html": [
       "<div>\n",
       "<style scoped>\n",
       "    .dataframe tbody tr th:only-of-type {\n",
       "        vertical-align: middle;\n",
       "    }\n",
       "\n",
       "    .dataframe tbody tr th {\n",
       "        vertical-align: top;\n",
       "    }\n",
       "\n",
       "    .dataframe thead th {\n",
       "        text-align: right;\n",
       "    }\n",
       "</style>\n",
       "<table border=\"1\" class=\"dataframe\">\n",
       "  <thead>\n",
       "    <tr style=\"text-align: right;\">\n",
       "      <th></th>\n",
       "      <th>id</th>\n",
       "      <th>name</th>\n",
       "      <th>nutriscore</th>\n",
       "      <th>energy</th>\n",
       "      <th>fat_g</th>\n",
       "      <th>sugar_g</th>\n",
       "      <th>sodium_mg</th>\n",
       "      <th>perc_fruit</th>\n",
       "      <th>fibers_g</th>\n",
       "      <th>proteins_g</th>\n",
       "      <th>energy_points</th>\n",
       "      <th>sugars_points</th>\n",
       "      <th>sodium_points</th>\n",
       "      <th>saturated_fat_points</th>\n",
       "      <th>fruit_points</th>\n",
       "      <th>fiber_points</th>\n",
       "      <th>proteins_points</th>\n",
       "    </tr>\n",
       "  </thead>\n",
       "  <tbody>\n",
       "    <tr>\n",
       "      <th>0</th>\n",
       "      <td>3168930010265</td>\n",
       "      <td>Cruesli Mélange De Noix</td>\n",
       "      <td>a</td>\n",
       "      <td>1933.008</td>\n",
       "      <td>19.0</td>\n",
       "      <td>12.0</td>\n",
       "      <td>0.0</td>\n",
       "      <td>0.0</td>\n",
       "      <td>10.0</td>\n",
       "      <td>8.5</td>\n",
       "      <td>5</td>\n",
       "      <td>8</td>\n",
       "      <td>10</td>\n",
       "      <td>0</td>\n",
       "      <td>0</td>\n",
       "      <td>10</td>\n",
       "      <td>10</td>\n",
       "    </tr>\n",
       "    <tr>\n",
       "      <th>1</th>\n",
       "      <td>20267605</td>\n",
       "      <td>Anacardi</td>\n",
       "      <td>b</td>\n",
       "      <td>2510.400</td>\n",
       "      <td>47.6</td>\n",
       "      <td>6.5</td>\n",
       "      <td>8.0</td>\n",
       "      <td>0.0</td>\n",
       "      <td>5.2</td>\n",
       "      <td>20.5</td>\n",
       "      <td>3</td>\n",
       "      <td>9</td>\n",
       "      <td>10</td>\n",
       "      <td>0</td>\n",
       "      <td>0</td>\n",
       "      <td>10</td>\n",
       "      <td>10</td>\n",
       "    </tr>\n",
       "  </tbody>\n",
       "</table>\n",
       "</div>"
      ],
      "text/plain": [
       "              id                     name nutriscore    energy  fat_g  \\\n",
       "0  3168930010265  Cruesli Mélange De Noix          a  1933.008   19.0   \n",
       "1       20267605                 Anacardi          b  2510.400   47.6   \n",
       "\n",
       "   sugar_g  sodium_mg  perc_fruit  fibers_g  proteins_g  energy_points  \\\n",
       "0     12.0        0.0         0.0      10.0         8.5              5   \n",
       "1      6.5        8.0         0.0       5.2        20.5              3   \n",
       "\n",
       "   sugars_points  sodium_points  saturated_fat_points  fruit_points  \\\n",
       "0              8             10                     0             0   \n",
       "1              9             10                     0             0   \n",
       "\n",
       "   fiber_points  proteins_points  \n",
       "0            10               10  \n",
       "1            10               10  "
      ]
     },
     "execution_count": 45,
     "metadata": {},
     "output_type": "execute_result"
    }
   ],
   "source": [
    "df = new_scale_transform(df)\n",
    "df.head(2)"
   ]
  },
  {
   "cell_type": "code",
   "execution_count": 46,
   "metadata": {},
   "outputs": [],
   "source": [
    "# calculate score using normal model\n",
    "df['our_nutrition_score'] = our_model(df)\n",
    "\n",
    "# assign label for normal model\n",
    "df['our_nutrition_label'] = normal_model_labels(df)"
   ]
  },
  {
   "cell_type": "markdown",
   "metadata": {},
   "source": [
    "### Evaluating their original nutrition score vs generated from our additive model"
   ]
  },
  {
   "cell_type": "code",
   "execution_count": 47,
   "metadata": {},
   "outputs": [
    {
     "data": {
      "image/png": "[encoded data removed]",
      "text/plain": [
       "<Figure size 640x480 with 1 Axes>"
      ]
     },
     "metadata": {},
     "output_type": "display_data"
    }
   ],
   "source": [
    "compare = pd.DataFrame(df['our_nutrition_label'].value_counts())\n",
    "compare['our_nutrition_label'] = pd.DataFrame(df['our_nutrition_label'].value_counts())\n",
    "compare['original_label'] = df['nutriscore'].value_counts()\n",
    "compare['Labels'] = compare.index\n",
    "compare.sort_index(inplace = True)\n",
    "\n",
    "fig, ax = plt.subplots()\n",
    "compare.plot(x = 'Labels', y = ['our_nutrition_label', 'original_label'], kind=\"bar\", ax=ax, title=\"Classification of products with different additive models\")\n",
    "ax.legend([\"Our Model\",\"Original Model\"])\n",
    "\n",
    "for i, val in enumerate(compare['our_nutrition_label']):\n",
    "    ax.text(i, val, str(val), ha='right', va='bottom')\n",
    "\n",
    "for i, val in enumerate(compare['original_label']):\n",
    "    ax.text(i, val, str(val), ha='left', va='bottom')\n",
    "\n",
    "plt.show()"
   ]
  },
  {
   "cell_type": "code",
   "execution_count": 61,
   "metadata": {},
   "outputs": [
    {
     "name": "stdout",
     "output_type": "stream",
     "text": [
      "Confusion Matrix:\n",
      "Predicted  a   b   c   d   e\n",
      "Actual                      \n",
      "a          5  20  38   6   0\n",
      "b          0   1  34  15   3\n",
      "c          0   1   7  10  16\n",
      "d          0   0   1   4   8\n",
      "e          0   0   3   3   9\n"
     ]
    },
    {
     "data": {
      "image/png": "[encoded data removed]",
      "text/plain": [
       "<Figure size 600x400 with 2 Axes>"
      ]
     },
     "metadata": {},
     "output_type": "display_data"
    }
   ],
   "source": [
    "# Create a confusion matrix using crosstab\n",
    "confusion_matrix = pd.crosstab(df['nutriscore'], df['our_nutrition_label'], rownames=['Actual'], colnames=['Predicted'])\n",
    "\n",
    "print(\"Confusion Matrix:\")\n",
    "print(confusion_matrix)\n",
    "# Plotting the confusion matrix as a heatmap using Seaborn\n",
    "plt.figure(figsize=(6, 4))\n",
    "sns.heatmap(confusion_matrix, annot=True, cmap='Blues', fmt='d')\n",
    "plt.title('Confusion Matrix')\n",
    "plt.xlabel('Our Model')\n",
    "plt.ylabel('Actual')\n",
    "plt.show()"
   ]
  },
  {
   "cell_type": "code",
   "execution_count": 62,
   "metadata": {},
   "outputs": [
    {
     "name": "stdout",
     "output_type": "stream",
     "text": [
      "Confusion Matrix:\n",
      "Predicted   a   b   c   d   e\n",
      "Actual                       \n",
      "a          69   0   0   0   0\n",
      "b           0  53   0   0   0\n",
      "c           0   0  34   0   0\n",
      "d           0   0   0  13   0\n",
      "e           0   0   0   0  15\n"
     ]
    },
    {
     "data": {
      "image/png": "[encoded data removed]",
      "text/plain": [
       "<Figure size 600x400 with 2 Axes>"
      ]
     },
     "metadata": {},
     "output_type": "display_data"
    }
   ],
   "source": [
    "# Create a confusion matrix using crosstab\n",
    "confusion_matrix = pd.crosstab(df['nutriscore'], df['nutriscore'], rownames=['Actual'], colnames=['Predicted'])\n",
    "\n",
    "print(\"Confusion Matrix:\")\n",
    "print(confusion_matrix)\n",
    "# Plotting the confusion matrix as a heatmap using Seaborn\n",
    "plt.figure(figsize=(6, 4))\n",
    "sns.heatmap(confusion_matrix, annot=True, cmap='Blues', fmt='d')\n",
    "plt.title('Confusion Matrix')\n",
    "plt.xlabel('Actual')\n",
    "plt.ylabel('Actual')\n",
    "plt.show()"
   ]
  },
  {
   "cell_type": "code",
   "execution_count": 49,
   "metadata": {},
   "outputs": [
    {
     "data": {
      "text/html": [
       "<div>\n",
       "<style scoped>\n",
       "    .dataframe tbody tr th:only-of-type {\n",
       "        vertical-align: middle;\n",
       "    }\n",
       "\n",
       "    .dataframe tbody tr th {\n",
       "        vertical-align: top;\n",
       "    }\n",
       "\n",
       "    .dataframe thead th {\n",
       "        text-align: right;\n",
       "    }\n",
       "</style>\n",
       "<table border=\"1\" class=\"dataframe\">\n",
       "  <thead>\n",
       "    <tr style=\"text-align: right;\">\n",
       "      <th></th>\n",
       "      <th>nutriscore</th>\n",
       "      <th>G_0</th>\n",
       "      <th>PMS_0.5</th>\n",
       "      <th>PMS_0.6</th>\n",
       "      <th>PMS_0.7</th>\n",
       "      <th>OMS_0.5</th>\n",
       "      <th>OMS_0.6</th>\n",
       "      <th>OMS_0.7</th>\n",
       "      <th>Decision Tree</th>\n",
       "      <th>kNN</th>\n",
       "      <th>Random Forest</th>\n",
       "    </tr>\n",
       "  </thead>\n",
       "  <tbody>\n",
       "    <tr>\n",
       "      <th>0</th>\n",
       "      <td>a</td>\n",
       "      <td>b</td>\n",
       "      <td>a</td>\n",
       "      <td>a</td>\n",
       "      <td>a</td>\n",
       "      <td>c</td>\n",
       "      <td>e</td>\n",
       "      <td>e</td>\n",
       "      <td>a</td>\n",
       "      <td>a</td>\n",
       "      <td>a</td>\n",
       "    </tr>\n",
       "    <tr>\n",
       "      <th>1</th>\n",
       "      <td>e</td>\n",
       "      <td>e</td>\n",
       "      <td>b</td>\n",
       "      <td>e</td>\n",
       "      <td>e</td>\n",
       "      <td>e</td>\n",
       "      <td>e</td>\n",
       "      <td>e</td>\n",
       "      <td>e</td>\n",
       "      <td>e</td>\n",
       "      <td>e</td>\n",
       "    </tr>\n",
       "  </tbody>\n",
       "</table>\n",
       "</div>"
      ],
      "text/plain": [
       "  nutriscore G_0 PMS_0.5 PMS_0.6 PMS_0.7 OMS_0.5 OMS_0.6 OMS_0.7  \\\n",
       "0          a   b       a       a       a       c       e       e   \n",
       "1          e   e       b       e       e       e       e       e   \n",
       "\n",
       "  Decision Tree kNN Random Forest  \n",
       "0             a   a             a  \n",
       "1             e   e             e  "
      ]
     },
     "execution_count": 49,
     "metadata": {},
     "output_type": "execute_result"
    }
   ],
   "source": [
    "# read thier scores\n",
    "others_scores = pd.read_csv('../data/nutri_scores.csv')\n",
    "others_scores.head(2)"
   ]
  },
  {
   "cell_type": "code",
   "execution_count": 50,
   "metadata": {},
   "outputs": [],
   "source": [
    "# merge the df with the others_scores based on index of the rows\n",
    "merged_df = df.merge(others_scores, left_index=True, right_index=True)"
   ]
  },
  {
   "cell_type": "code",
   "execution_count": 51,
   "metadata": {},
   "outputs": [
    {
     "data": {
      "text/plain": [
       "Index(['id', 'name', 'nutriscore_x', 'energy', 'fat_g', 'sugar_g', 'sodium_mg',\n",
       "       'perc_fruit', 'fibers_g', 'proteins_g', 'energy_points',\n",
       "       'sugars_points', 'sodium_points', 'saturated_fat_points',\n",
       "       'fruit_points', 'fiber_points', 'proteins_points',\n",
       "       'our_nutrition_score', 'our_nutrition_label', 'nutriscore_y', 'G_0',\n",
       "       'PMS_0.5', 'PMS_0.6', 'PMS_0.7', 'OMS_0.5', 'OMS_0.6', 'OMS_0.7',\n",
       "       'Decision Tree', 'kNN', 'Random Forest'],\n",
       "      dtype='object')"
      ]
     },
     "execution_count": 51,
     "metadata": {},
     "output_type": "execute_result"
    }
   ],
   "source": [
    "merged_df.columns"
   ]
  },
  {
   "cell_type": "code",
   "execution_count": 52,
   "metadata": {},
   "outputs": [
    {
     "data": {
      "text/html": [
       "<div>\n",
       "<style scoped>\n",
       "    .dataframe tbody tr th:only-of-type {\n",
       "        vertical-align: middle;\n",
       "    }\n",
       "\n",
       "    .dataframe tbody tr th {\n",
       "        vertical-align: top;\n",
       "    }\n",
       "\n",
       "    .dataframe thead th {\n",
       "        text-align: right;\n",
       "    }\n",
       "</style>\n",
       "<table border=\"1\" class=\"dataframe\">\n",
       "  <thead>\n",
       "    <tr style=\"text-align: right;\">\n",
       "      <th></th>\n",
       "      <th>id</th>\n",
       "      <th>name</th>\n",
       "      <th>nutriscore_x</th>\n",
       "      <th>energy</th>\n",
       "      <th>fat_g</th>\n",
       "      <th>sugar_g</th>\n",
       "      <th>sodium_mg</th>\n",
       "      <th>perc_fruit</th>\n",
       "      <th>fibers_g</th>\n",
       "      <th>proteins_g</th>\n",
       "      <th>...</th>\n",
       "      <th>G_0</th>\n",
       "      <th>PMS_0.5</th>\n",
       "      <th>PMS_0.6</th>\n",
       "      <th>PMS_0.7</th>\n",
       "      <th>OMS_0.5</th>\n",
       "      <th>OMS_0.6</th>\n",
       "      <th>OMS_0.7</th>\n",
       "      <th>Decision Tree</th>\n",
       "      <th>kNN</th>\n",
       "      <th>Random Forest</th>\n",
       "    </tr>\n",
       "  </thead>\n",
       "  <tbody>\n",
       "    <tr>\n",
       "      <th>0</th>\n",
       "      <td>3168930010265</td>\n",
       "      <td>Cruesli Mélange De Noix</td>\n",
       "      <td>a</td>\n",
       "      <td>1933.008</td>\n",
       "      <td>19.0</td>\n",
       "      <td>12.0</td>\n",
       "      <td>0.0</td>\n",
       "      <td>0.0</td>\n",
       "      <td>10.0</td>\n",
       "      <td>8.5</td>\n",
       "      <td>...</td>\n",
       "      <td>b</td>\n",
       "      <td>a</td>\n",
       "      <td>a</td>\n",
       "      <td>a</td>\n",
       "      <td>c</td>\n",
       "      <td>e</td>\n",
       "      <td>e</td>\n",
       "      <td>a</td>\n",
       "      <td>a</td>\n",
       "      <td>a</td>\n",
       "    </tr>\n",
       "    <tr>\n",
       "      <th>1</th>\n",
       "      <td>20267605</td>\n",
       "      <td>Anacardi</td>\n",
       "      <td>b</td>\n",
       "      <td>2510.400</td>\n",
       "      <td>47.6</td>\n",
       "      <td>6.5</td>\n",
       "      <td>8.0</td>\n",
       "      <td>0.0</td>\n",
       "      <td>5.2</td>\n",
       "      <td>20.5</td>\n",
       "      <td>...</td>\n",
       "      <td>e</td>\n",
       "      <td>b</td>\n",
       "      <td>e</td>\n",
       "      <td>e</td>\n",
       "      <td>e</td>\n",
       "      <td>e</td>\n",
       "      <td>e</td>\n",
       "      <td>e</td>\n",
       "      <td>e</td>\n",
       "      <td>e</td>\n",
       "    </tr>\n",
       "  </tbody>\n",
       "</table>\n",
       "<p>2 rows × 30 columns</p>\n",
       "</div>"
      ],
      "text/plain": [
       "              id                     name nutriscore_x    energy  fat_g  \\\n",
       "0  3168930010265  Cruesli Mélange De Noix            a  1933.008   19.0   \n",
       "1       20267605                 Anacardi            b  2510.400   47.6   \n",
       "\n",
       "   sugar_g  sodium_mg  perc_fruit  fibers_g  proteins_g  ...  G_0  PMS_0.5  \\\n",
       "0     12.0        0.0         0.0      10.0         8.5  ...    b        a   \n",
       "1      6.5        8.0         0.0       5.2        20.5  ...    e        b   \n",
       "\n",
       "   PMS_0.6  PMS_0.7  OMS_0.5  OMS_0.6  OMS_0.7  Decision Tree kNN  \\\n",
       "0        a        a        c        e        e              a   a   \n",
       "1        e        e        e        e        e              e   e   \n",
       "\n",
       "  Random Forest  \n",
       "0             a  \n",
       "1             e  \n",
       "\n",
       "[2 rows x 30 columns]"
      ]
     },
     "execution_count": 52,
     "metadata": {},
     "output_type": "execute_result"
    }
   ],
   "source": [
    "merged_df.head(2)"
   ]
  },
  {
   "cell_type": "code",
   "execution_count": 53,
   "metadata": {},
   "outputs": [
    {
     "name": "stdout",
     "output_type": "stream",
     "text": [
      "Confusion Matrix:\n",
      "Predicted  a   b   c   d   e\n",
      "Actual                      \n",
      "a          0   0   0   1   1\n",
      "b          2  11  30  14  10\n",
      "c          3   7  45  18  18\n",
      "d          0   3   4   4   4\n",
      "e          0   1   4   1   3\n"
     ]
    },
    {
     "data": {
      "image/png": "[encoded data removed]",
      "text/plain": [
       "<Figure size 600x400 with 2 Axes>"
      ]
     },
     "metadata": {},
     "output_type": "display_data"
    }
   ],
   "source": [
    "# Create a confusion matrix using crosstab\n",
    "confusion_matrix_others = pd.crosstab(merged_df['G_0'], merged_df['our_nutrition_label'], rownames=['Actual'], colnames=['Predicted'])\n",
    "\n",
    "print(\"Confusion Matrix:\")\n",
    "print(confusion_matrix_others)\n",
    "# Plotting the confusion matrix as a heatmap using Seaborn\n",
    "plt.figure(figsize=(6, 4))\n",
    "sns.heatmap(confusion_matrix_others, annot=True, cmap='Blues', fmt='d')\n",
    "plt.title('Confusion Matrix')\n",
    "plt.xlabel('Our Model')\n",
    "plt.ylabel('Other\\'s Model')\n",
    "plt.show()"
   ]
  },
  {
   "cell_type": "code",
   "execution_count": 60,
   "metadata": {},
   "outputs": [
    {
     "name": "stdout",
     "output_type": "stream",
     "text": [
      "Other's Confusion Matrix:\n",
      "Predicted   a   b   c  d  e\n",
      "Actual                     \n",
      "a           0   0   1  1  0\n",
      "b          32  20   8  3  4\n",
      "c          29  27  20  6  9\n",
      "d           4   4   3  2  2\n",
      "e           4   2   2  1  0\n"
     ]
    },
    {
     "data": {
      "image/png": "[encoded data removed]",
      "text/plain": [
       "<Figure size 600x400 with 2 Axes>"
      ]
     },
     "metadata": {},
     "output_type": "display_data"
    }
   ],
   "source": [
    "# Create a confusion matrix using crosstab\n",
    "confusion_matrix_others = pd.crosstab(merged_df['G_0'], merged_df['nutriscore_x'], rownames=['Actual'], colnames=['Predicted'])\n",
    "\n",
    "print(\"Other's Confusion Matrix:\")\n",
    "print(confusion_matrix_others)\n",
    "# Plotting the confusion matrix as a heatmap using Seaborn\n",
    "plt.figure(figsize=(6, 4))\n",
    "sns.heatmap(confusion_matrix_others, annot=True, cmap='Blues', fmt='d')\n",
    "plt.title('Confusion Matrix')\n",
    "plt.xlabel('Other\\'s Model')\n",
    "plt.ylabel('Actual')\n",
    "plt.show()"
   ]
  },
  {
   "cell_type": "code",
   "execution_count": 58,
   "metadata": {},
   "outputs": [
    {
     "data": {
      "image/png": "[encoded data removed]",
      "text/plain": [
       "<Figure size 640x480 with 1 Axes>"
      ]
     },
     "metadata": {},
     "output_type": "display_data"
    }
   ],
   "source": [
    "merged_df['nutriscore_x'].value_counts().plot(kind='bar')\n",
    "plt.xlabel('Nutriscore')\n",
    "plt.ylabel('Count')\n",
    "plt.title('Number of Classes based on Original Nutriscore')\n",
    "plt.show()\n"
   ]
  },
  {
   "cell_type": "code",
   "execution_count": null,
   "metadata": {},
   "outputs": [],
   "source": []
  },
  {
   "cell_type": "code",
   "execution_count": null,
   "metadata": {},
   "outputs": [],
   "source": []
  }
 ],
 "metadata": {
  "kernelspec": {
   "display_name": "Python 3",
   "language": "python",
   "name": "python3"
  },
  "language_info": {
   "codemirror_mode": {
    "name": "ipython",
    "version": 3
   },
   "file_extension": ".py",
   "mimetype": "text/x-python",
   "name": "python",
   "nbconvert_exporter": "python",
   "pygments_lexer": "ipython3",
   "version": "3.12.0"
  }
 },
 "nbformat": 4,
 "nbformat_minor": 2
}
