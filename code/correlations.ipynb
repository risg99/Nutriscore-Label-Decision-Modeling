{
 "cells": [
  {
   "cell_type": "code",
   "execution_count": null,
   "metadata": {},
   "outputs": [],
   "source": [
    "# !pip install -r ../requirements.txt"
   ]
  },
  {
   "cell_type": "code",
   "execution_count": null,
   "metadata": {},
   "outputs": [],
   "source": [
    "import pandas as pd\n",
    "import seaborn as sns\n",
    "import matplotlib.pyplot as plt"
   ]
  },
  {
   "cell_type": "code",
   "execution_count": null,
   "metadata": {},
   "outputs": [],
   "source": [
    "df = pd.read_csv('../data/final_preprocessed_data_points.csv')\n",
    "df.head(2)"
   ]
  },
  {
   "cell_type": "code",
   "execution_count": null,
   "metadata": {},
   "outputs": [],
   "source": [
    "# Getting the columns\n",
    "df.columns, df.shape"
   ]
  },
  {
   "cell_type": "code",
   "execution_count": null,
   "metadata": {},
   "outputs": [],
   "source": [
    "columns_of_interest = ['energy-kj_100g','sugars_100g', 'salt_100g', 'saturated-fat_100g','proteins_100g', 'fiber_100g', 'fruits-vegetables-nuts-estimate-from-ingredients_100g', 'sodium_100g']\n",
    "df1 = df[columns_of_interest]\n",
    "y = df['nutrition-score-fr_100g']\n",
    "df1.head(2)"
   ]
  },
  {
   "cell_type": "code",
   "execution_count": null,
   "metadata": {},
   "outputs": [],
   "source": [
    "correlation_matrix = df1.corr()\n",
    "\n",
    "# Create a heatmap to visualize the correlations\n",
    "plt.figure(figsize=(5, 5))\n",
    "sns.heatmap(correlation_matrix, annot=True, cmap='coolwarm', fmt='.2f', linewidths=.5)\n",
    "plt.title('Correlation Heatmap of Nutritional Values')\n",
    "plt.show()"
   ]
  },
  {
   "cell_type": "code",
   "execution_count": null,
   "metadata": {},
   "outputs": [],
   "source": [
    "def get_top_correlations_blog(df, threshold=0.3):\n",
    "    \"\"\"\n",
    "    df: the dataframe to get correlations from\n",
    "    threshold: the maximum and minimum value to include for correlations. \n",
    "    For eg, if this is 0.4, only pairs haveing a correlation coefficient greater than 0.4 \n",
    "    or less than -0.4 will be included in the results. \n",
    "    \"\"\"\n",
    "    orig_corr = df.corr()\n",
    "    c = orig_corr.abs()\n",
    "\n",
    "    so = c.unstack()\n",
    "    \n",
    "    i=0\n",
    "    pairs=set()\n",
    "    result = pd.DataFrame()\n",
    "    for index, value in so.sort_values(ascending=False).iteritems():\n",
    "        # Exclude duplicates and self-correlations\n",
    "        if value > threshold \\\n",
    "        and index[0] != index[1] \\\n",
    "        and (index[0], index[1]) not in pairs \\\n",
    "        and (index[1], index[0]) not in pairs:\n",
    "            \n",
    "            # print(f'|    {index[0]}    |    {index[1]}    |    {orig_corr.loc[(index[0], index[1])]}    |')\n",
    "            result.loc[i, ['Variable 1', 'Variable 2', 'Correlation']] = [index[0], index[1], orig_corr.loc[(index[0], index[1])]]\n",
    "            pairs.add((index[0], index[1]))\n",
    "            i+=1\n",
    "    return result.reset_index(drop=True).set_index(['Variable 1', 'Variable 2'])"
   ]
  },
  {
   "cell_type": "code",
   "execution_count": null,
   "metadata": {},
   "outputs": [],
   "source": [
    "df1.head()"
   ]
  },
  {
   "cell_type": "code",
   "execution_count": null,
   "metadata": {},
   "outputs": [],
   "source": [
    "top_corr = get_top_correlations_blog(df1)\n",
    "top_corr"
   ]
  },
  {
   "cell_type": "code",
   "execution_count": null,
   "metadata": {},
   "outputs": [],
   "source": [
    "# view the distribution and correlation of those strong features by each class\n",
    "\n",
    "sns.pairplot(df1)\n",
    "plt.figure(figsize = (10,8))\n",
    "plt.show()"
   ]
  },
  {
   "cell_type": "markdown",
   "metadata": {},
   "source": [
    "Some observations:\n",
    "* Either salt or sodium can be omitted (as it is fully correlated (100%))\n",
    "* Energy and fats are half correlated (50%)\n",
    "* Fibers and proteins are half correlated (50%)\n",
    "* Energy and proteins are half correlated (46%)\n",
    "\n",
    "Our decisions:\n",
    "* Ignore salt and include sodium\n",
    "* Ignore energy (due to correlation with proteins and fats)\n",
    "* Maximise 1/2(fibers+proteins) as they are correlated\n",
    "* Assign weight of fruits-vegetables-nuts as 1, as it has weak correlations with all the other variables"
   ]
  }
 ],
 "metadata": {
  "kernelspec": {
   "display_name": "Python 3",
   "language": "python",
   "name": "python3"
  },
  "language_info": {
   "codemirror_mode": {
    "name": "ipython",
    "version": 3
   },
   "file_extension": ".py",
   "mimetype": "text/x-python",
   "name": "python",
   "nbconvert_exporter": "python",
   "pygments_lexer": "ipython3",
   "version": "3.9.6"
  }
 },
 "nbformat": 4,
 "nbformat_minor": 2
}
