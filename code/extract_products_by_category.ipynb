{
 "cells": [
  {
   "cell_type": "code",
   "execution_count": 1,
   "id": "33e2149c-4c40-47fe-ae05-6256bab97fe1",
   "metadata": {},
   "outputs": [
    {
     "name": "stdout",
     "output_type": "stream",
     "text": [
      "Requirement already satisfied: requests in c:\\users\\rishika gupta\\appdata\\local\\programs\\python\\python39\\lib\\site-packages (from -r ../requirements.txt (line 1)) (2.28.1)\n",
      "Requirement already satisfied: pandas in c:\\users\\rishika gupta\\appdata\\roaming\\python\\python39\\site-packages (from -r ../requirements.txt (line 2)) (1.4.0)\n",
      "Requirement already satisfied: charset-normalizer<3,>=2 in c:\\users\\rishika gupta\\appdata\\local\\programs\\python\\python39\\lib\\site-packages (from requests->-r ../requirements.txt (line 1)) (2.1.0)\n",
      "Requirement already satisfied: idna<4,>=2.5 in c:\\users\\rishika gupta\\appdata\\local\\programs\\python\\python39\\lib\\site-packages (from requests->-r ../requirements.txt (line 1)) (3.3)\n",
      "Requirement already satisfied: urllib3<1.27,>=1.21.1 in c:\\users\\rishika gupta\\appdata\\local\\programs\\python\\python39\\lib\\site-packages (from requests->-r ../requirements.txt (line 1)) (1.26.11)\n",
      "Requirement already satisfied: certifi>=2017.4.17 in c:\\users\\rishika gupta\\appdata\\local\\programs\\python\\python39\\lib\\site-packages (from requests->-r ../requirements.txt (line 1)) (2022.6.15)\n",
      "Requirement already satisfied: python-dateutil>=2.8.1 in c:\\users\\rishika gupta\\appdata\\local\\programs\\python\\python39\\lib\\site-packages (from pandas->-r ../requirements.txt (line 2)) (2.8.2)\n",
      "Requirement already satisfied: pytz>=2020.1 in c:\\users\\rishika gupta\\appdata\\local\\programs\\python\\python39\\lib\\site-packages (from pandas->-r ../requirements.txt (line 2)) (2020.1)\n",
      "Requirement already satisfied: numpy>=1.18.5 in c:\\users\\rishika gupta\\appdata\\local\\programs\\python\\python39\\lib\\site-packages (from pandas->-r ../requirements.txt (line 2)) (1.22.3)\n",
      "Requirement already satisfied: six>=1.5 in c:\\users\\rishika gupta\\appdata\\local\\programs\\python\\python39\\lib\\site-packages (from python-dateutil>=2.8.1->pandas->-r ../requirements.txt (line 2)) (1.15.0)\n"
     ]
    },
    {
     "name": "stderr",
     "output_type": "stream",
     "text": [
      "WARNING: Ignoring invalid distribution -atplotlib (c:\\users\\rishika gupta\\appdata\\local\\programs\\python\\python39\\lib\\site-packages)\n",
      "WARNING: Ignoring invalid distribution -atplotlib (c:\\users\\rishika gupta\\appdata\\local\\programs\\python\\python39\\lib\\site-packages)\n",
      "\n",
      "[notice] A new release of pip is available: 23.2.1 -> 23.3.1\n",
      "[notice] To update, run: python.exe -m pip install --upgrade pip\n"
     ]
    }
   ],
   "source": [
    "!pip install -r ../requirements.txt "
   ]
  },
  {
   "cell_type": "code",
   "execution_count": 2,
   "id": "a2b38bc8-ae1e-4d61-a9ef-5f70c1c8586f",
   "metadata": {},
   "outputs": [],
   "source": [
    "import requests\n",
    "import pandas as pd"
   ]
  },
  {
   "cell_type": "code",
   "execution_count": 3,
   "id": "eeafc276-b8dd-4057-b30b-27f396cba080",
   "metadata": {},
   "outputs": [
    {
     "name": "stdout",
     "output_type": "stream",
     "text": [
      "Combined products saved to combined_products.csv\n"
     ]
    }
   ],
   "source": [
    "def extract_products_by_category(category):\n",
    "    url = f\"https://de.openfoodfacts.org/cgi/search.pl?action=process&tagtype_0=categories&tag_contains_0=contains&tag_0={category}&page_size=100&json=true\"\n",
    "    response = requests.get(url)\n",
    "    \n",
    "    if response.status_code == 200:\n",
    "        products_data = response.json()[\"products\"]\n",
    "        products_df = pd.DataFrame(products_data)\n",
    "        return products_df\n",
    "    else:\n",
    "        print(f\"Failed to fetch data for {category}\")\n",
    "        return None\n",
    "\n",
    "categories = [\"Drinks\", \"Dairy Products\", \"Beverages\", \"Nuts\", \"Sauces\", \"Sandwiches\", \"Snacks\", \"Meat alternatives\", \"Ready meals\"]\n",
    "\n",
    "combined_products = pd.DataFrame()\n",
    "\n",
    "# Extract and combine products for each category\n",
    "for category in categories:\n",
    "    products_df = extract_products_by_category(category)\n",
    "    if products_df is not None:\n",
    "        combined_products = pd.concat([combined_products, products_df], ignore_index=True)\n",
    "\n",
    "# Remove duplicates\n",
    "combined_products.drop_duplicates(subset=\"product_name\", keep=\"first\", inplace=True)\n",
    "\n",
    "combined_file_name = \"combined_products.csv\"\n",
    "combined_products.to_csv('../data/'+combined_file_name, index=False)\n",
    "print(f\"Combined products saved to {combined_file_name}\")"
   ]
  }
 ],
 "metadata": {
  "kernelspec": {
   "display_name": "Python 3 (ipykernel)",
   "language": "python",
   "name": "python3"
  },
  "language_info": {
   "codemirror_mode": {
    "name": "ipython",
    "version": 3
   },
   "file_extension": ".py",
   "mimetype": "text/x-python",
   "name": "python",
   "nbconvert_exporter": "python",
   "pygments_lexer": "ipython3",
   "version": "3.9.6"
  }
 },
 "nbformat": 4,
 "nbformat_minor": 5
}
