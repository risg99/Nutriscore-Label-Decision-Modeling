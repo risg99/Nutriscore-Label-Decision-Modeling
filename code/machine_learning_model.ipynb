{
 "cells": [
  {
   "cell_type": "code",
   "execution_count": 14,
   "metadata": {},
   "outputs": [
    {
     "ename": "ImportError",
     "evalue": "cannot import name 'plot_roc_curve' from 'sklearn.metrics' (c:\\Users\\aligh\\anaconda3\\envs\\dmproject\\Lib\\site-packages\\sklearn\\metrics\\__init__.py)",
     "output_type": "error",
     "traceback": [
      "\u001b[1;31m---------------------------------------------------------------------------\u001b[0m",
      "\u001b[1;31mImportError\u001b[0m                               Traceback (most recent call last)",
      "Cell \u001b[1;32mIn[14], line 7\u001b[0m\n\u001b[0;32m      5\u001b[0m \u001b[38;5;28;01mimport\u001b[39;00m \u001b[38;5;21;01mmatplotlib\u001b[39;00m\u001b[38;5;21;01m.\u001b[39;00m\u001b[38;5;21;01mpyplot\u001b[39;00m \u001b[38;5;28;01mas\u001b[39;00m \u001b[38;5;21;01mplt\u001b[39;00m\n\u001b[0;32m      6\u001b[0m \u001b[38;5;28;01mimport\u001b[39;00m \u001b[38;5;21;01mseaborn\u001b[39;00m \u001b[38;5;28;01mas\u001b[39;00m \u001b[38;5;21;01msns\u001b[39;00m\n\u001b[1;32m----> 7\u001b[0m \u001b[38;5;28;01mfrom\u001b[39;00m \u001b[38;5;21;01msklearn\u001b[39;00m\u001b[38;5;21;01m.\u001b[39;00m\u001b[38;5;21;01mmetrics\u001b[39;00m \u001b[38;5;28;01mimport\u001b[39;00m plot_roc_curve\n",
      "\u001b[1;31mImportError\u001b[0m: cannot import name 'plot_roc_curve' from 'sklearn.metrics' (c:\\Users\\aligh\\anaconda3\\envs\\dmproject\\Lib\\site-packages\\sklearn\\metrics\\__init__.py)"
     ]
    }
   ],
   "source": [
    "from sklearn.model_selection import train_test_split\n",
    "from sklearn.tree import DecisionTreeClassifier\n",
    "from sklearn.metrics import accuracy_score\n",
    "import pandas as pd\n",
    "import matplotlib.pyplot as plt\n",
    "import seaborn as sns\n",
    "from sklearn.metrics import roc_curve, auc"
   ]
  },
  {
   "cell_type": "code",
   "execution_count": null,
   "metadata": {},
   "outputs": [],
   "source": [
    "data = pd.read_csv('../data/final_preprocessed_data_points.csv')"
   ]
  },
  {
   "cell_type": "code",
   "execution_count": null,
   "metadata": {},
   "outputs": [],
   "source": [
    "def AnotherMethodNutriScore(data):\n",
    "    # Select columns of interest\n",
    "    columns_of_interest = ['energy-kj_100g', 'sugars_100g', 'salt_100g', 'saturated-fat_100g',\n",
    "                           'proteins_100g', 'fiber_100g', 'fruits-vegetables-nuts-estimate-from-ingredients_100g', 'sodium_100g',\n",
    "                           'nutrition_grade_fr']  # Include the target column\n",
    "\n",
    "    # Filter the dataset to columns of interest\n",
    "    filtered_data = data[columns_of_interest]\n",
    "\n",
    "    # Handle missing values if any\n",
    "    filtered_data.dropna(inplace=True)\n",
    "\n",
    "    # Separate features and target variable\n",
    "    X = filtered_data.drop('nutrition_grade_fr', axis=1)\n",
    "    y = filtered_data['nutrition_grade_fr']\n",
    "\n",
    "    # Split the data into training and testing sets\n",
    "    X_train, X_test, y_train, y_test = train_test_split(X, y, test_size=0.2, random_state=42)\n",
    "\n",
    "    # Initialize and train the Decision Tree Classifier\n",
    "    clf = DecisionTreeClassifier(random_state=42)\n",
    "    clf.fit(X_train, y_train)\n",
    "\n",
    "    # Predict Nutri-scores\n",
    "    predicted_scores = clf.predict(X_test)\n",
    "\n",
    "    # Model evaluation\n",
    "    accuracy = accuracy_score(y_test, predicted_scores)\n",
    "    print(f\"Accuracy of the model: {accuracy}\")\n",
    "\n",
    "    # Get the IDs of the test set\n",
    "    test_ids = X_test.index.tolist()\n",
    "\n",
    "    # Create a DataFrame to store IDs, original and predicted Nutri-scores\n",
    "    results = pd.DataFrame({\n",
    "        '_id': test_ids,\n",
    "        'Original_NutriScore': y_test.values,\n",
    "        'Predicted_NutriScore': predicted_scores\n",
    "    })\n",
    "\n",
    "    return results, X_test, y_test, clf"
   ]
  },
  {
   "cell_type": "code",
   "execution_count": null,
   "metadata": {},
   "outputs": [
    {
     "name": "stdout",
     "output_type": "stream",
     "text": [
      "Accuracy of the model: 0.6818181818181818\n"
     ]
    },
    {
     "name": "stderr",
     "output_type": "stream",
     "text": [
      "C:\\Users\\aligh\\AppData\\Local\\Temp\\ipykernel_36704\\3297679531.py:11: SettingWithCopyWarning: \n",
      "A value is trying to be set on a copy of a slice from a DataFrame\n",
      "\n",
      "See the caveats in the documentation: https://pandas.pydata.org/pandas-docs/stable/user_guide/indexing.html#returning-a-view-versus-a-copy\n",
      "  filtered_data.dropna(inplace=True)\n"
     ]
    }
   ],
   "source": [
    "predicted_nutri_scores, X_test, y_test, clf = AnotherMethodNutriScore(data)"
   ]
  },
  {
   "cell_type": "markdown",
   "metadata": {},
   "source": [
    "# Confusion Matrix"
   ]
  },
  {
   "cell_type": "code",
   "execution_count": null,
   "metadata": {},
   "outputs": [
    {
     "name": "stdout",
     "output_type": "stream",
     "text": [
      "Confusion Matrix:\n",
      "Predicted   a  b  c  e\n",
      "Actual                \n",
      "a          18  3  2  0\n",
      "b           0  8  1  0\n",
      "c           1  1  4  1\n",
      "d           0  0  5  0\n"
     ]
    },
    {
     "data": {
      "image/png": "[encoded data removed]",
      "text/plain": [
       "<Figure size 600x400 with 2 Axes>"
      ]
     },
     "metadata": {},
     "output_type": "display_data"
    }
   ],
   "source": [
    "# Create a confusion matrix using crosstab\n",
    "confusion_matrix = pd.crosstab(predicted_nutri_scores['Original_NutriScore'], predicted_nutri_scores['Predicted_NutriScore'], rownames=['Actual'], colnames=['Predicted'])\n",
    "\n",
    "print(\"Confusion Matrix:\")\n",
    "print(confusion_matrix)\n",
    "# Plotting the confusion matrix as a heatmap using Seaborn\n",
    "plt.figure(figsize=(6, 4))\n",
    "sns.heatmap(confusion_matrix, annot=True, cmap='Blues', fmt='d')\n",
    "plt.title('Confusion Matrix')\n",
    "plt.xlabel('Predicted')\n",
    "plt.ylabel('Actual')\n",
    "plt.show()"
   ]
  },
  {
   "cell_type": "code",
   "execution_count": null,
   "metadata": {},
   "outputs": [
    {
     "ename": "ValueError",
     "evalue": "The target y is not binary. Got continuous-multioutput type of target.",
     "output_type": "error",
     "traceback": [
      "\u001b[1;31m---------------------------------------------------------------------------\u001b[0m",
      "\u001b[1;31mValueError\u001b[0m                                Traceback (most recent call last)",
      "Cell \u001b[1;32mIn[13], line 2\u001b[0m\n\u001b[0;32m      1\u001b[0m \u001b[38;5;66;03m# Assuming 'clf' is your trained classifier and 'X_test, y_test' are your test data\u001b[39;00m\n\u001b[1;32m----> 2\u001b[0m RocCurveDisplay\u001b[38;5;241m.\u001b[39mfrom_predictions(X_test, y_test)\n\u001b[0;32m      3\u001b[0m plt\u001b[38;5;241m.\u001b[39mtitle(\u001b[38;5;124m'\u001b[39m\u001b[38;5;124mROC Curve\u001b[39m\u001b[38;5;124m'\u001b[39m)\n\u001b[0;32m      4\u001b[0m plt\u001b[38;5;241m.\u001b[39mshow()\n",
      "File \u001b[1;32mc:\\Users\\aligh\\anaconda3\\envs\\dmproject\\Lib\\site-packages\\sklearn\\metrics\\_plot\\roc_curve.py:386\u001b[0m, in \u001b[0;36mRocCurveDisplay.from_predictions\u001b[1;34m(cls, y_true, y_pred, sample_weight, drop_intermediate, pos_label, name, ax, plot_chance_level, chance_level_kw, **kwargs)\u001b[0m\n\u001b[0;32m    291\u001b[0m \u001b[38;5;129m@classmethod\u001b[39m\n\u001b[0;32m    292\u001b[0m \u001b[38;5;28;01mdef\u001b[39;00m \u001b[38;5;21mfrom_predictions\u001b[39m(\n\u001b[0;32m    293\u001b[0m     \u001b[38;5;28mcls\u001b[39m,\n\u001b[1;32m   (...)\u001b[0m\n\u001b[0;32m    304\u001b[0m     \u001b[38;5;241m*\u001b[39m\u001b[38;5;241m*\u001b[39mkwargs,\n\u001b[0;32m    305\u001b[0m ):\n\u001b[0;32m    306\u001b[0m \u001b[38;5;250m    \u001b[39m\u001b[38;5;124;03m\"\"\"Plot ROC curve given the true and predicted values.\u001b[39;00m\n\u001b[0;32m    307\u001b[0m \n\u001b[0;32m    308\u001b[0m \u001b[38;5;124;03m    Read more in the :ref:`User Guide <visualizations>`.\u001b[39;00m\n\u001b[1;32m   (...)\u001b[0m\n\u001b[0;32m    384\u001b[0m \u001b[38;5;124;03m    >>> plt.show()\u001b[39;00m\n\u001b[0;32m    385\u001b[0m \u001b[38;5;124;03m    \"\"\"\u001b[39;00m\n\u001b[1;32m--> 386\u001b[0m     pos_label_validated, name \u001b[38;5;241m=\u001b[39m \u001b[38;5;28mcls\u001b[39m\u001b[38;5;241m.\u001b[39m_validate_from_predictions_params(\n\u001b[0;32m    387\u001b[0m         y_true, y_pred, sample_weight\u001b[38;5;241m=\u001b[39msample_weight, pos_label\u001b[38;5;241m=\u001b[39mpos_label, name\u001b[38;5;241m=\u001b[39mname\n\u001b[0;32m    388\u001b[0m     )\n\u001b[0;32m    390\u001b[0m     fpr, tpr, _ \u001b[38;5;241m=\u001b[39m roc_curve(\n\u001b[0;32m    391\u001b[0m         y_true,\n\u001b[0;32m    392\u001b[0m         y_pred,\n\u001b[1;32m   (...)\u001b[0m\n\u001b[0;32m    395\u001b[0m         drop_intermediate\u001b[38;5;241m=\u001b[39mdrop_intermediate,\n\u001b[0;32m    396\u001b[0m     )\n\u001b[0;32m    397\u001b[0m     roc_auc \u001b[38;5;241m=\u001b[39m auc(fpr, tpr)\n",
      "File \u001b[1;32mc:\\Users\\aligh\\anaconda3\\envs\\dmproject\\Lib\\site-packages\\sklearn\\utils\\_plotting.py:50\u001b[0m, in \u001b[0;36m_BinaryClassifierCurveDisplayMixin._validate_from_predictions_params\u001b[1;34m(cls, y_true, y_pred, sample_weight, pos_label, name)\u001b[0m\n\u001b[0;32m     47\u001b[0m check_matplotlib_support(\u001b[38;5;124mf\u001b[39m\u001b[38;5;124m\"\u001b[39m\u001b[38;5;132;01m{\u001b[39;00m\u001b[38;5;28mcls\u001b[39m\u001b[38;5;241m.\u001b[39m\u001b[38;5;18m__name__\u001b[39m\u001b[38;5;132;01m}\u001b[39;00m\u001b[38;5;124m.from_predictions\u001b[39m\u001b[38;5;124m\"\u001b[39m)\n\u001b[0;32m     49\u001b[0m \u001b[38;5;28;01mif\u001b[39;00m type_of_target(y_true) \u001b[38;5;241m!=\u001b[39m \u001b[38;5;124m\"\u001b[39m\u001b[38;5;124mbinary\u001b[39m\u001b[38;5;124m\"\u001b[39m:\n\u001b[1;32m---> 50\u001b[0m     \u001b[38;5;28;01mraise\u001b[39;00m \u001b[38;5;167;01mValueError\u001b[39;00m(\n\u001b[0;32m     51\u001b[0m         \u001b[38;5;124mf\u001b[39m\u001b[38;5;124m\"\u001b[39m\u001b[38;5;124mThe target y is not binary. Got \u001b[39m\u001b[38;5;132;01m{\u001b[39;00mtype_of_target(y_true)\u001b[38;5;132;01m}\u001b[39;00m\u001b[38;5;124m type of\u001b[39m\u001b[38;5;124m\"\u001b[39m\n\u001b[0;32m     52\u001b[0m         \u001b[38;5;124m\"\u001b[39m\u001b[38;5;124m target.\u001b[39m\u001b[38;5;124m\"\u001b[39m\n\u001b[0;32m     53\u001b[0m     )\n\u001b[0;32m     55\u001b[0m check_consistent_length(y_true, y_pred, sample_weight)\n\u001b[0;32m     56\u001b[0m pos_label \u001b[38;5;241m=\u001b[39m _check_pos_label_consistency(pos_label, y_true)\n",
      "\u001b[1;31mValueError\u001b[0m: The target y is not binary. Got continuous-multioutput type of target."
     ]
    }
   ],
   "source": [
    "# Assuming 'clf' is your trained classifier and 'X_test, y_test' are your test data\n",
    "plot_roc_curve(clf, X_test, y_test)\n",
    "plt.title('ROC Curve')\n",
    "plt.show()"
   ]
  },
  {
   "cell_type": "code",
   "execution_count": null,
   "metadata": {},
   "outputs": [],
   "source": []
  }
 ],
 "metadata": {
  "kernelspec": {
   "display_name": "dmproject",
   "language": "python",
   "name": "python3"
  },
  "language_info": {
   "codemirror_mode": {
    "name": "ipython",
    "version": 3
   },
   "file_extension": ".py",
   "mimetype": "text/x-python",
   "name": "python",
   "nbconvert_exporter": "python",
   "pygments_lexer": "ipython3",
   "version": "3.12.0"
  }
 },
 "nbformat": 4,
 "nbformat_minor": 2
}
