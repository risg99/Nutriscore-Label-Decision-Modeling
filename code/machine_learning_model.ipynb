{
 "cells": [
  {
   "cell_type": "code",
   "execution_count": null,
   "metadata": {},
   "outputs": [],
   "source": [
    "from sklearn.model_selection import train_test_split\n",
    "from sklearn.tree import DecisionTreeClassifier\n",
    "from sklearn.metrics import accuracy_score\n",
    "import pandas as pd\n",
    "import matplotlib.pyplot as plt\n",
    "import seaborn as sns"
   ]
  },
  {
   "cell_type": "code",
   "execution_count": null,
   "metadata": {},
   "outputs": [],
   "source": [
    "data = pd.read_csv('../data/final_preprocessed_data_points.csv')"
   ]
  },
  {
   "cell_type": "code",
   "execution_count": null,
   "metadata": {},
   "outputs": [],
   "source": [
    "def AnotherMethodNutriScore(data):\n",
    "    # Select columns of interest\n",
    "    columns_of_interest = ['energy-kj_100g', 'sugars_100g', 'salt_100g', 'saturated-fat_100g',\n",
    "                           'proteins_100g', 'fiber_100g', 'fruits-vegetables-nuts-estimate-from-ingredients_100g', 'sodium_100g',\n",
    "                           'nutrition_grade_fr']  # Include the target column\n",
    "\n",
    "    # Filter the dataset to columns of interest\n",
    "    filtered_data = data[columns_of_interest]\n",
    "\n",
    "    # Handle missing values if any\n",
    "    filtered_data.dropna(inplace=True)\n",
    "\n",
    "    # Separate features and target variable\n",
    "    X = filtered_data.drop('nutrition_grade_fr', axis=1)\n",
    "    y = filtered_data['nutrition_grade_fr']\n",
    "\n",
    "    # Split the data into training and testing sets\n",
    "    X_train, X_test, y_train, y_test = train_test_split(X, y, test_size=0.2, random_state=42)\n",
    "\n",
    "    # Initialize and train the Decision Tree Classifier\n",
    "    clf = DecisionTreeClassifier(random_state=42)\n",
    "    clf.fit(X_train, y_train)\n",
    "\n",
    "    # Predict Nutri-scores\n",
    "    predicted_scores = clf.predict(X_test)\n",
    "\n",
    "    # Model evaluation\n",
    "    accuracy = accuracy_score(y_test, predicted_scores)\n",
    "    print(f\"Accuracy of the model: {accuracy}\")\n",
    "\n",
    "    # Get the IDs of the test set\n",
    "    test_ids = X_test.index.tolist()\n",
    "\n",
    "    # Create a DataFrame to store IDs, original and predicted Nutri-scores\n",
    "    results = pd.DataFrame({\n",
    "        '_id': test_ids,\n",
    "        'Original_NutriScore': y_test.values,\n",
    "        'Predicted_NutriScore': predicted_scores\n",
    "    })\n",
    "\n",
    "    return results, X_test, y_test, clf"
   ]
  },
  {
   "cell_type": "code",
   "execution_count": null,
   "metadata": {},
   "outputs": [],
   "source": [
    "predicted_nutri_scores, X_test, y_test, clf = AnotherMethodNutriScore(data)"
   ]
  },
  {
   "cell_type": "markdown",
   "metadata": {},
   "source": [
    "# Confusion Matrix"
   ]
  },
  {
   "cell_type": "code",
   "execution_count": null,
   "metadata": {},
   "outputs": [],
   "source": [
    "# Create a confusion matrix using crosstab\n",
    "confusion_matrix = pd.crosstab(predicted_nutri_scores['Original_NutriScore'], predicted_nutri_scores['Predicted_NutriScore'], rownames=['Actual'], colnames=['Predicted'])\n",
    "\n",
    "print(\"Confusion Matrix:\")\n",
    "print(confusion_matrix)\n",
    "# Plotting the confusion matrix as a heatmap using Seaborn\n",
    "plt.figure(figsize=(6, 4))\n",
    "sns.heatmap(confusion_matrix, annot=True, cmap='Blues', fmt='d')\n",
    "plt.title('Confusion Matrix')\n",
    "plt.xlabel('Predicted')\n",
    "plt.ylabel('Actual')\n",
    "plt.show()"
   ]
  },
  {
   "cell_type": "code",
   "execution_count": null,
   "metadata": {},
   "outputs": [],
   "source": []
  }
 ],
 "metadata": {
  "kernelspec": {
   "display_name": "dmproject",
   "language": "python",
   "name": "python3"
  },
  "language_info": {
   "codemirror_mode": {
    "name": "ipython",
    "version": 3
   },
   "file_extension": ".py",
   "mimetype": "text/x-python",
   "name": "python",
   "nbconvert_exporter": "python",
   "pygments_lexer": "ipython3",
   "version": "3.12.0"
  }
 },
 "nbformat": 4,
 "nbformat_minor": 2
}
