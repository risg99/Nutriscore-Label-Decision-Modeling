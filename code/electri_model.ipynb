{
 "cells": [
  {
   "cell_type": "code",
   "execution_count": null,
   "metadata": {},
   "outputs": [],
   "source": [
    "import pandas as pd\n",
    "import numpy as np\n",
    "import matplotlib.pyplot as plt\n",
    "import seaborn as sns"
   ]
  },
  {
   "cell_type": "code",
   "execution_count": null,
   "metadata": {},
   "outputs": [],
   "source": [
    "df = pd.read_csv('../data/preprocessed_data_points.csv')\n",
    "print(df.shape)\n",
    "df.head(2)"
   ]
  },
  {
   "cell_type": "code",
   "execution_count": null,
   "metadata": {},
   "outputs": [],
   "source": [
    "en = \"energy-kj_100g\"\n",
    "su = \"sugars_100g\"\n",
    "fa = \"saturated-fat_100g\"\n",
    "sa = \"sodium_100g\"\n",
    "pr = \"proteins_100g\"\n",
    "fi = \"fiber_100g\"\n",
    "fr = \"fruits-vegetables-nuts-estimate-from-ingredients_100g\"\n",
    "\n",
    "profiles = df.loc[:,[en, su, fa, sa, pr, fi, fr]]\n",
    "print(profiles.shape)\n",
    "profiles.head(2)"
   ]
  },
  {
   "cell_type": "code",
   "execution_count": null,
   "metadata": {},
   "outputs": [],
   "source": [
    "# Getting quantiles using numpy.percentile() for distinct columns values\n",
    "quantiles = {}\n",
    "for col in profiles.columns:\n",
    "    quantiles[col] = np.percentile(profiles[col].unique(), [0, 20, 40, 60, 80, 100])\n",
    "\n",
    "# Plotting distribution curves for each column\n",
    "for col in profiles.columns:\n",
    "    plt.figure(figsize=(8, 5))\n",
    "    sns.histplot(profiles[col], kde=True, bins=30, color='green', stat='density')\n",
    "    plt.title(f'Distribution of {col}')\n",
    "    plt.xlabel('Values')\n",
    "    plt.ylabel('Density')  \n",
    "    plt.show()"
   ]
  },
  {
   "cell_type": "code",
   "execution_count": null,
   "metadata": {},
   "outputs": [],
   "source": [
    "profile_dict = {}\n",
    "\n",
    "# Creating a dictionary of criteria for each column\n",
    "for col in profiles.columns:\n",
    "    each_criteria = []\n",
    "    for i in range(5):\n",
    "        each_criteria.append((quantiles[col][i], quantiles[col][i+1]))\n",
    "    profile_dict[col] = each_criteria\n",
    "\n",
    "print(profile_dict)"
   ]
  },
  {
   "cell_type": "code",
   "execution_count": null,
   "metadata": {},
   "outputs": [],
   "source": [
    "weights = [\n",
    "    {en: 1, su: 1, fa: 1, sa: 1, pr: 2, fi: 2, fr: 2},\n",
    "    # to add one more set of own weights{en: 1, su: 1, fa: 1, sa: 1, pr: 5, fi: 5, fr: 5}\n",
    "]"
   ]
  },
  {
   "cell_type": "code",
   "execution_count": null,
   "metadata": {},
   "outputs": [],
   "source": [
    "def pessimistic_model():\n",
    "    return"
   ]
  }
 ],
 "metadata": {
  "kernelspec": {
   "display_name": "Python 3",
   "language": "python",
   "name": "python3"
  },
  "language_info": {
   "codemirror_mode": {
    "name": "ipython",
    "version": 3
   },
   "file_extension": ".py",
   "mimetype": "text/x-python",
   "name": "python",
   "nbconvert_exporter": "python",
   "pygments_lexer": "ipython3",
   "version": "3.9.6"
  }
 },
 "nbformat": 4,
 "nbformat_minor": 2
}
