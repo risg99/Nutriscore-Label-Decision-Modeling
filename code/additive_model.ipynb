{
 "cells": [
  {
   "cell_type": "code",
   "execution_count": 1,
   "id": "9dd10254-9abf-4271-85c8-283ea605f9dc",
   "metadata": {},
   "outputs": [],
   "source": [
    "# !pip install -r ../requirements.txt"
   ]
  },
  {
   "cell_type": "code",
   "execution_count": 42,
   "id": "6d275a5c-0c6b-4aa6-94bb-304d6a4b3fd8",
   "metadata": {},
   "outputs": [],
   "source": [
    "import pandas as pd\n",
    "import numpy as np\n",
    "import matplotlib.pyplot as plt"
   ]
  },
  {
   "cell_type": "markdown",
   "metadata": {},
   "source": [
    "Calculate the Point score"
   ]
  },
  {
   "cell_type": "code",
   "execution_count": 35,
   "metadata": {},
   "outputs": [],
   "source": [
    "def get_points(bounds, value, fruit_flag=False):\n",
    "    if fruit_flag:\n",
    "        if value > 80:\n",
    "            return 5\n",
    "    for i in range(len(bounds) - 1):\n",
    "        if bounds[i] < value <= bounds[i + 1]:\n",
    "            return i\n",
    "    return len(bounds) - 1 if value > bounds[-1] else 0\n"
   ]
  },
  {
   "cell_type": "code",
   "execution_count": 81,
   "metadata": {},
   "outputs": [],
   "source": [
    "def CalculatePoints(product):\n",
    "    # print(product)\n",
    "    print(product['energy-kj_100g'])\n",
    "    # define the bounds for each of the four categories for negative nutrients and positive nutrients\n",
    "\n",
    "    # negative nutrients: energy, suger, sodium, saturated fatty acid\n",
    "    energy_bounds = [0, 335, 670, 1005, 1340, 1675, 2010, 2345, 2680, 3015, 3350]\n",
    "    suger_bounds = [0, 4.5, 9, 13.5, 18, 22.5, 27, 31.5, 36, 40.5, 45]\n",
    "    sodium_bounds = [0, 90, 180, 270, 360, 450, 540, 630, 720, 810, 900]\n",
    "    saturated_fatty_acid_bounds = [0, 1, 2, 3, 4, 5, 6, 7, 8, 9, 10]\n",
    "    # positive nutrients: fruit, fiber, protein\n",
    "    fruit_bounds = [0, 40, 60, 80, 100]\n",
    "    fiber_bounds = [0, 0.9, 1.9, 2.8, 3.7, 4.7]\n",
    "    protens_bounds = [0, 1.6, 3.2, 4.8, 6.4, 8.0]\n",
    "\n",
    "    # Find the points for each of the four categories for negative nutrients\n",
    "    energy_points = get_points(energy_bounds, product['energy-kj_100g'])\n",
    "    suger_points = get_points(suger_bounds, product['sugars_100g'])\n",
    "    sodium_points = get_points(sodium_bounds, product['sodium_100g'])\n",
    "    saturated_fatty_acid_points = get_points(saturated_fatty_acid_bounds, product['saturated-fat_100g'])\n",
    "\n",
    "    # find the points for the positive nutrients\n",
    "    fruit_points = get_points(fruit_bounds, product['fruits-vegetables-nuts-estimate-from-ingredients_100g'], fruit_flag=True)\n",
    "    fiber_points = get_points(fiber_bounds, product['fiber_100g'])\n",
    "    protens_points = get_points(protens_bounds, product['proteins_100g'])\n",
    "\n",
    "    # append the points to the dataframe\n",
    "    product['energy_points'] = energy_points\n",
    "    product['suger_points'] = suger_points\n",
    "    product['sodium_points'] = sodium_points\n",
    "    product['saturated_fatty_acid_points'] = saturated_fatty_acid_points\n",
    "    product['fruit_points'] = fruit_points\n",
    "    product['fiber_points'] = fiber_points\n",
    "    product['protens_points'] = protens_points\n",
    "    \n"
   ]
  },
  {
   "cell_type": "markdown",
   "id": "c7941c05-d868-40ef-8f08-b90c53100030",
   "metadata": {},
   "source": [
    "### Defining criteria"
   ]
  },
  {
   "cell_type": "code",
   "execution_count": 3,
   "id": "6ce4706a-49b1-4a9b-935f-d89e1580e27c",
   "metadata": {},
   "outputs": [],
   "source": [
    "en = \"energy_points\"\n",
    "su = \"sugars_points\"\n",
    "fa = \"saturated_fat_points\"\n",
    "sa = \"sodium_points\"\n",
    "pr = \"proteins_points\"\n",
    "fi = \"fiber_points\"\n",
    "fr = \"fruit_points\"\n",
    "\n",
    "criteria_to_minimize = {en, su, fa, sa}\n",
    "criteria_to_maximize = {pr, fi, fr}"
   ]
  },
  {
   "cell_type": "markdown",
   "id": "dc41b74b-eea1-43c0-a678-84fec27d49f4",
   "metadata": {},
   "source": [
    "### Defining Additive Models"
   ]
  },
  {
   "cell_type": "code",
   "execution_count": 4,
   "id": "613cca50-4ec6-4007-b861-758d1f7ff185",
   "metadata": {},
   "outputs": [],
   "source": [
    "# Additive model 1\n",
    "def new_scale_transform(df):\n",
    "    \"\"\"\n",
    "    Defines a new transformed scale for each criterion:\n",
    "    1. x'_i = 10 - x_i for the criteria to be minimized i ∈ {en, su, fa, sa}\n",
    "    2. x'_i = 2 * x_i for the criteria to be maximized i ∈ {pr, fi, fr}\n",
    "    \"\"\"\n",
    "    for column in df.columns:\n",
    "        if column in criteria_to_minimize:\n",
    "            df[column] = 10 - df[column]\n",
    "        elif column in criteria_to_maximize:\n",
    "            df[column] = 2 * df[column]\n",
    "    return df"
   ]
  },
  {
   "cell_type": "code",
   "execution_count": 5,
   "id": "453fb4bf-6ed9-4b34-9f77-ba56fa9b3f30",
   "metadata": {},
   "outputs": [],
   "source": [
    "def normal_model(df):\n",
    "    # 40 − F(x) = 40 - F(x'_en, x'_su, x'_fa, x'_sa, x'_pr, x'_fi, x'_fr) = 40 - x'_en + x'_su + x'_fa + x'_sa + 1/2(x'_pr + x'_fi + x'fr)\n",
    "    return (40 - (df[en] + df[su] + df[fa] + df[sa] + (1/2 * (df[pr] + df[fi] + df[fr])))).astype(int)"
   ]
  },
  {
   "cell_type": "code",
   "execution_count": 6,
   "id": "bec99fd7-52ea-4d67-8f00-9b83629914a9",
   "metadata": {},
   "outputs": [],
   "source": [
    "# nutrients = [en, su, fa, sa, pr, fi, fr]\n",
    "\n",
    "# # Additive Model 2 (Utility Function 1)\n",
    "# def utility_model_1(df):\n",
    "#     total_value = 0    \n",
    "#     utility_ranges = [(0, 5), (5, 10), (10, 15), (15, 20)]\n",
    "#     utility_values = [0.2, 0.4, 0.6, 0.8, 1]  # Corresponding utility values for each range\n",
    "    \n",
    "#     for _, row in df.iterrows():\n",
    "#         for nutrient in nutrients:\n",
    "#             for i, (low, high) in enumerate(utility_ranges):\n",
    "#                 if low < row[nutrient] <= high:\n",
    "#                     total_value += utility_values[i]\n",
    "#                 else:\n",
    "#                     total_value += 0.2  # Minimum utility for quantities beyond the defined ranges\n",
    "#     return total_value\n",
    "\n",
    "# # Additive Model 3 (Utility Function 2)\n",
    "# def utility_model_2(df):  \n",
    "#     total_value = 0    \n",
    "#     utility_ranges = [(0, 5), (5, 10), (10, 15), (15, 20)]\n",
    "#     utility_values = [0.2, 0.4, 0.6, 0.8, 1][::-1]  # Corresponding utility values for each range\n",
    "    \n",
    "#     for _, row in df.iterrows():\n",
    "#         for nutrient in nutrients:\n",
    "#             for i, (low, high) in enumerate(utility_ranges):\n",
    "#                 if low < row[nutrient] <= high:\n",
    "#                     total_value += utility_values[i]\n",
    "#                 else:\n",
    "#                     total_value += 0.2  # Minimum utility for quantities beyond the defined ranges\n",
    "#     return total_value"
   ]
  },
  {
   "cell_type": "markdown",
   "id": "4073fd96-25c8-4a59-b648-7d72c846cf20",
   "metadata": {},
   "source": [
    "### Defining Labels for Additive Models"
   ]
  },
  {
   "cell_type": "code",
   "execution_count": 7,
   "id": "4ec83262-5400-442d-92f0-19bed19c717d",
   "metadata": {},
   "outputs": [],
   "source": [
    "def normal_model_labels(df):\n",
    "    score = df['normal_score']\n",
    "    return np.where(score < 0, 'A',\n",
    "        np.where(score < 3, 'B',\n",
    "        np.where(score < 11, 'C',\n",
    "        np.where(score < 19, 'D',\n",
    "        np.where(score <= 40, 'E', 'ERROR')))))"
   ]
  },
  {
   "cell_type": "code",
   "execution_count": 8,
   "id": "24b58092-5513-4b30-a069-2bf4a40c34fe",
   "metadata": {},
   "outputs": [],
   "source": [
    "# def utility_model_1_labels(df):\n",
    "#     score = df['utility_score_1']\n",
    "#     return np.where(score < 0.2, 'A',\n",
    "#         np.where(score < 0.4, 'B',\n",
    "#         np.where(score < 0.6, 'C',\n",
    "#         np.where(score < 0.8, 'D',\n",
    "#         np.where(score <= 1, 'E', 'ERROR')))))\n",
    "\n",
    "# def utility_model_2_labels(df):\n",
    "#     score = df['utility_score_2']\n",
    "#     return np.where(score < 0.2, 'A',\n",
    "#         np.where(score < 0.4, 'B',\n",
    "#         np.where(score < 0.6, 'C',\n",
    "#         np.where(score < 0.8, 'D',\n",
    "#         np.where(score <= 1, 'E', 'ERROR')))))"
   ]
  },
  {
   "cell_type": "markdown",
   "id": "dbe57b70-6c92-4fa0-aaee-31d5f1559145",
   "metadata": {},
   "source": [
    "### Working on data"
   ]
  },
  {
   "cell_type": "code",
   "execution_count": 82,
   "id": "d2500cc8-34a2-40d7-af3b-693051e2f039",
   "metadata": {},
   "outputs": [
    {
     "name": "stdout",
     "output_type": "stream",
     "text": [
      "0\n"
     ]
    },
    {
     "ename": "AttributeError",
     "evalue": "'float' object has no attribute 'values'",
     "output_type": "error",
     "traceback": [
      "\u001b[1;31m---------------------------------------------------------------------------\u001b[0m",
      "\u001b[1;31mAttributeError\u001b[0m                            Traceback (most recent call last)",
      "\u001b[1;32md:\\CentraleSupelec\\DM project\\Nutriscore-Label-Decision-Modeling\\code\\additive_model.ipynb Cell 17\u001b[0m line \u001b[0;36m5\n\u001b[0;32m      <a href='vscode-notebook-cell:/d%3A/CentraleSupelec/DM%20project/Nutriscore-Label-Decision-Modeling/code/additive_model.ipynb#X15sZmlsZQ%3D%3D?line=2'>3</a>\u001b[0m points \u001b[39m=\u001b[39m []\n\u001b[0;32m      <a href='vscode-notebook-cell:/d%3A/CentraleSupelec/DM%20project/Nutriscore-Label-Decision-Modeling/code/additive_model.ipynb#X15sZmlsZQ%3D%3D?line=3'>4</a>\u001b[0m \u001b[39mfor\u001b[39;00m index, row \u001b[39min\u001b[39;00m df\u001b[39m.\u001b[39miterrows():\n\u001b[1;32m----> <a href='vscode-notebook-cell:/d%3A/CentraleSupelec/DM%20project/Nutriscore-Label-Decision-Modeling/code/additive_model.ipynb#X15sZmlsZQ%3D%3D?line=4'>5</a>\u001b[0m     CalculatePoints(row)\n",
      "\u001b[1;32md:\\CentraleSupelec\\DM project\\Nutriscore-Label-Decision-Modeling\\code\\additive_model.ipynb Cell 17\u001b[0m line \u001b[0;36m1\n\u001b[0;32m     <a href='vscode-notebook-cell:/d%3A/CentraleSupelec/DM%20project/Nutriscore-Label-Decision-Modeling/code/additive_model.ipynb#X15sZmlsZQ%3D%3D?line=13'>14</a>\u001b[0m protens_bounds \u001b[39m=\u001b[39m [\u001b[39m0\u001b[39m, \u001b[39m1.6\u001b[39m, \u001b[39m3.2\u001b[39m, \u001b[39m4.8\u001b[39m, \u001b[39m6.4\u001b[39m, \u001b[39m8.0\u001b[39m]\n\u001b[0;32m     <a href='vscode-notebook-cell:/d%3A/CentraleSupelec/DM%20project/Nutriscore-Label-Decision-Modeling/code/additive_model.ipynb#X15sZmlsZQ%3D%3D?line=15'>16</a>\u001b[0m \u001b[39m# Find the points for each of the four categories for negative nutrients\u001b[39;00m\n\u001b[1;32m---> <a href='vscode-notebook-cell:/d%3A/CentraleSupelec/DM%20project/Nutriscore-Label-Decision-Modeling/code/additive_model.ipynb#X15sZmlsZQ%3D%3D?line=16'>17</a>\u001b[0m energy_points \u001b[39m=\u001b[39m get_points(energy_bounds, product[\u001b[39m'\u001b[39m\u001b[39menergy-kj_100g\u001b[39m\u001b[39m'\u001b[39m]\u001b[39m.\u001b[39mvalues[\u001b[39m0\u001b[39m])\n\u001b[0;32m     <a href='vscode-notebook-cell:/d%3A/CentraleSupelec/DM%20project/Nutriscore-Label-Decision-Modeling/code/additive_model.ipynb#X15sZmlsZQ%3D%3D?line=17'>18</a>\u001b[0m suger_points \u001b[39m=\u001b[39m get_points(suger_bounds, product[\u001b[39m'\u001b[39m\u001b[39msugars_100g\u001b[39m\u001b[39m'\u001b[39m]\u001b[39m.\u001b[39mvalues[\u001b[39m0\u001b[39m])\n\u001b[0;32m     <a href='vscode-notebook-cell:/d%3A/CentraleSupelec/DM%20project/Nutriscore-Label-Decision-Modeling/code/additive_model.ipynb#X15sZmlsZQ%3D%3D?line=18'>19</a>\u001b[0m sodium_points \u001b[39m=\u001b[39m get_points(sodium_bounds, product[\u001b[39m'\u001b[39m\u001b[39msodium_100g\u001b[39m\u001b[39m'\u001b[39m]\u001b[39m.\u001b[39mvalues[\u001b[39m0\u001b[39m])\n",
      "\u001b[1;31mAttributeError\u001b[0m: 'float' object has no attribute 'values'"
     ]
    }
   ],
   "source": [
    "df = pd.read_csv('../data/preprocessed_data_v4.csv')\n",
    "# loop over the df, and call the function to calcualte the points for each product and append it to the df\n",
    "points = []\n",
    "for index, row in df.iterrows():\n",
    "    CalculatePoints(row)"
   ]
  },
  {
   "cell_type": "code",
   "execution_count": 10,
   "id": "68ccef7b-99d0-4ccb-91e5-e3c2ae8122e5",
   "metadata": {},
   "outputs": [
    {
     "data": {
      "text/html": [
       "<div>\n",
       "<style scoped>\n",
       "    .dataframe tbody tr th:only-of-type {\n",
       "        vertical-align: middle;\n",
       "    }\n",
       "\n",
       "    .dataframe tbody tr th {\n",
       "        vertical-align: top;\n",
       "    }\n",
       "\n",
       "    .dataframe thead th {\n",
       "        text-align: right;\n",
       "    }\n",
       "</style>\n",
       "<table border=\"1\" class=\"dataframe\">\n",
       "  <thead>\n",
       "    <tr style=\"text-align: right;\">\n",
       "      <th></th>\n",
       "      <th>id</th>\n",
       "      <th>image_url</th>\n",
       "      <th>brands</th>\n",
       "      <th>pnns_groups_2</th>\n",
       "      <th>negative_points</th>\n",
       "      <th>positive_points</th>\n",
       "      <th>energy_points</th>\n",
       "      <th>sugars_points</th>\n",
       "      <th>sodium_points</th>\n",
       "      <th>saturated_fat_points</th>\n",
       "      <th>proteins_points</th>\n",
       "      <th>fiber_points</th>\n",
       "      <th>fruits_vegetables_nuts_colza_walnut_olive_oils_points</th>\n",
       "      <th>nutrition_score_fr</th>\n",
       "    </tr>\n",
       "  </thead>\n",
       "  <tbody>\n",
       "    <tr>\n",
       "      <th>0</th>\n",
       "      <td>4.000418e+12</td>\n",
       "      <td>https://images.openfoodfacts.org/images/produc...</td>\n",
       "      <td>Ritter Sport</td>\n",
       "      <td>Chocolate products</td>\n",
       "      <td>22.0</td>\n",
       "      <td>0.0</td>\n",
       "      <td>3.0</td>\n",
       "      <td>5.0</td>\n",
       "      <td>10.0</td>\n",
       "      <td>0.0</td>\n",
       "      <td>0.0</td>\n",
       "      <td>0.0</td>\n",
       "      <td>0.0</td>\n",
       "      <td>22.0</td>\n",
       "    </tr>\n",
       "    <tr>\n",
       "      <th>1</th>\n",
       "      <td>4.260402e+12</td>\n",
       "      <td>https://images.openfoodfacts.org/images/produc...</td>\n",
       "      <td>Veganz</td>\n",
       "      <td>Chocolate products</td>\n",
       "      <td>25.0</td>\n",
       "      <td>0.0</td>\n",
       "      <td>3.0</td>\n",
       "      <td>2.0</td>\n",
       "      <td>10.0</td>\n",
       "      <td>0.0</td>\n",
       "      <td>0.0</td>\n",
       "      <td>0.0</td>\n",
       "      <td>0.0</td>\n",
       "      <td>25.0</td>\n",
       "    </tr>\n",
       "  </tbody>\n",
       "</table>\n",
       "</div>"
      ],
      "text/plain": [
       "             id                                          image_url  \\\n",
       "0  4.000418e+12  https://images.openfoodfacts.org/images/produc...   \n",
       "1  4.260402e+12  https://images.openfoodfacts.org/images/produc...   \n",
       "\n",
       "         brands       pnns_groups_2  negative_points  positive_points  \\\n",
       "0  Ritter Sport  Chocolate products             22.0              0.0   \n",
       "1        Veganz  Chocolate products             25.0              0.0   \n",
       "\n",
       "   energy_points  sugars_points  sodium_points  saturated_fat_points  \\\n",
       "0            3.0            5.0           10.0                   0.0   \n",
       "1            3.0            2.0           10.0                   0.0   \n",
       "\n",
       "   proteins_points  fiber_points  \\\n",
       "0              0.0           0.0   \n",
       "1              0.0           0.0   \n",
       "\n",
       "   fruits_vegetables_nuts_colza_walnut_olive_oils_points  nutrition_score_fr  \n",
       "0                                                0.0                    22.0  \n",
       "1                                                0.0                    25.0  "
      ]
     },
     "execution_count": 10,
     "metadata": {},
     "output_type": "execute_result"
    }
   ],
   "source": [
    "df = new_scale_transform(df)\n",
    "df.head(2)"
   ]
  },
  {
   "cell_type": "code",
   "execution_count": 11,
   "id": "a0a6ed4b-f44b-4c74-a095-ef40dee9d9f2",
   "metadata": {},
   "outputs": [],
   "source": [
    "# calculate score using normal model\n",
    "df['normal_score'] = normal_model(df)\n",
    "\n",
    "# calculate score using marginal utility models\n",
    "# df['utility_score_1'] = utility_model_1(df)\n",
    "# df['utility_score_2'] = utility_model_2(df)"
   ]
  },
  {
   "cell_type": "code",
   "execution_count": 12,
   "id": "365d0628-594e-4e03-9acb-08e859219537",
   "metadata": {},
   "outputs": [],
   "source": [
    "# assign label for normal model\n",
    "df['normal_label'] = normal_model_labels(df)\n",
    "\n",
    "# assign label for marginal utility models\n",
    "# df['utility_label_1'] = utility_model_1_labels(df)\n",
    "# df['utility_label_2'] = utility_model_2_labels(df)"
   ]
  },
  {
   "cell_type": "markdown",
   "id": "82db2686-0530-47eb-8a8b-93a8b5d4ac7c",
   "metadata": {},
   "source": [
    "### Checking and comparing different additive models"
   ]
  },
  {
   "cell_type": "code",
   "execution_count": 13,
   "id": "f12cf5e4-7391-45ab-af20-62d13c235e2a",
   "metadata": {},
   "outputs": [
    {
     "data": {
      "text/plain": [
       "True    152\n",
       "Name: normal_score_matching_nutriscore, dtype: int64"
      ]
     },
     "execution_count": 13,
     "metadata": {},
     "output_type": "execute_result"
    }
   ],
   "source": [
    "df['normal_score_matching_nutriscore'] = df.apply(lambda x: x[\"normal_score\"] == int(x[\"nutrition_score_fr\"]), axis = 1)\n",
    "df['normal_score_matching_nutriscore'].value_counts()"
   ]
  },
  {
   "cell_type": "code",
   "execution_count": 14,
   "id": "e43bf9ee-b81b-4c5c-8096-6993e8981aee",
   "metadata": {},
   "outputs": [],
   "source": [
    "# compare = pd.DataFrame(df['normal_label'].value_counts())\n",
    "# compare['utility_label_1'] = df['utility_label_1'].value_counts()\n",
    "# compare['utility_label_2'] = df['utility_label_2'].value_counts()\n",
    "# compare['Labels'] = compare.index\n",
    "\n",
    "# fig, ax = plt.subplots()\n",
    "# compare.plot(x = 'Labels', y = ['normal_label', 'utility_label_1', 'utility_label_2'], kind=\"bar\", ax=ax, title=\"Classification of products with three different additive models\")\n",
    "# ax.legend([\"Normal Model\", \"Utility Model 1\", \"Utility Model 2\"]);"
   ]
  }
 ],
 "metadata": {
  "kernelspec": {
   "display_name": "Python 3 (ipykernel)",
   "language": "python",
   "name": "python3"
  },
  "language_info": {
   "codemirror_mode": {
    "name": "ipython",
    "version": 3
   },
   "file_extension": ".py",
   "mimetype": "text/x-python",
   "name": "python",
   "nbconvert_exporter": "python",
   "pygments_lexer": "ipython3",
   "version": "3.11.5"
  }
 },
 "nbformat": 4,
 "nbformat_minor": 5
}
