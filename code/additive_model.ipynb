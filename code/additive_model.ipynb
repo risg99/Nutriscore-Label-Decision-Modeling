{
 "cells": [
  {
   "cell_type": "code",
   "execution_count": 1,
   "id": "9dd10254-9abf-4271-85c8-283ea605f9dc",
   "metadata": {},
   "outputs": [],
   "source": [
    "# !pip install -r ../requirements.txt"
   ]
  },
  {
   "cell_type": "code",
   "execution_count": 2,
   "id": "6d275a5c-0c6b-4aa6-94bb-304d6a4b3fd8",
   "metadata": {},
   "outputs": [],
   "source": [
    "import pandas as pd\n",
    "import numpy as np\n",
    "import matplotlib.pyplot as plt"
   ]
  },
  {
   "cell_type": "markdown",
   "id": "c7941c05-d868-40ef-8f08-b90c53100030",
   "metadata": {},
   "source": [
    "### Defining criteria"
   ]
  },
  {
   "cell_type": "code",
   "execution_count": 3,
   "id": "6ce4706a-49b1-4a9b-935f-d89e1580e27c",
   "metadata": {},
   "outputs": [],
   "source": [
    "en = \"energy_points\"\n",
    "su = \"sugars_points\"\n",
    "fa = \"saturated_fat_points\"\n",
    "sa = \"sodium_points\"\n",
    "pr = \"proteins_points\"\n",
    "fi = \"fiber_points\"\n",
    "fr = \"fruits_vegetables_nuts_colza_walnut_olive_oils_points\"\n",
    "\n",
    "criteria_to_minimize = {en, su, fa, sa}\n",
    "criteria_to_maximize = {pr, fi, fr}"
   ]
  },
  {
   "cell_type": "markdown",
   "id": "dc41b74b-eea1-43c0-a678-84fec27d49f4",
   "metadata": {},
   "source": [
    "### Defining Additive Models"
   ]
  },
  {
   "cell_type": "code",
   "execution_count": 4,
   "id": "613cca50-4ec6-4007-b861-758d1f7ff185",
   "metadata": {},
   "outputs": [],
   "source": [
    "# Additive model 1\n",
    "def new_scale_transform(df):\n",
    "    \"\"\"\n",
    "    Defines a new transformed scale for each criterion:\n",
    "    1. x'_i = 10 - x_i for the criteria to be minimized i ∈ {en, su, fa, sa}\n",
    "    2. x'_i = 2 * x_i for the criteria to be maximized i ∈ {pr, fi, fr}\n",
    "    \"\"\"\n",
    "    for column in df.columns:\n",
    "        if column in criteria_to_minimize:\n",
    "            df[column] = 10 - df[column]\n",
    "        elif column in criteria_to_maximize:\n",
    "            df[column] = 2 * df[column]\n",
    "    return df"
   ]
  },
  {
   "cell_type": "code",
   "execution_count": 5,
   "id": "453fb4bf-6ed9-4b34-9f77-ba56fa9b3f30",
   "metadata": {},
   "outputs": [],
   "source": [
    "def normal_model(df):\n",
    "    # 40 − F(x) = 40 - F(x'_en, x'_su, x'_fa, x'_sa, x'_pr, x'_fi, x'_fr) = 40 - x'_en + x'_su + x'_fa + x'_sa + 1/2(x'_pr + x'_fi + x'fr)\n",
    "    return (40 - (df[en] + df[su] + df[fa] + df[sa] + (1/2 * (df[pr] + df[fi] + df[fr])))).astype(int)"
   ]
  },
  {
   "cell_type": "code",
   "execution_count": 6,
   "id": "bec99fd7-52ea-4d67-8f00-9b83629914a9",
   "metadata": {},
   "outputs": [],
   "source": [
    "# nutrients = [en, su, fa, sa, pr, fi, fr]\n",
    "\n",
    "# # Additive Model 2 (Utility Function 1)\n",
    "# def utility_model_1(df):\n",
    "#     total_value = 0    \n",
    "#     utility_ranges = [(0, 5), (5, 10), (10, 15), (15, 20)]\n",
    "#     utility_values = [0.2, 0.4, 0.6, 0.8, 1]  # Corresponding utility values for each range\n",
    "    \n",
    "#     for _, row in df.iterrows():\n",
    "#         for nutrient in nutrients:\n",
    "#             for i, (low, high) in enumerate(utility_ranges):\n",
    "#                 if low < row[nutrient] <= high:\n",
    "#                     total_value += utility_values[i]\n",
    "#                 else:\n",
    "#                     total_value += 0.2  # Minimum utility for quantities beyond the defined ranges\n",
    "#     return total_value\n",
    "\n",
    "# # Additive Model 3 (Utility Function 2)\n",
    "# def utility_model_2(df):  \n",
    "#     total_value = 0    \n",
    "#     utility_ranges = [(0, 5), (5, 10), (10, 15), (15, 20)]\n",
    "#     utility_values = [0.2, 0.4, 0.6, 0.8, 1][::-1]  # Corresponding utility values for each range\n",
    "    \n",
    "#     for _, row in df.iterrows():\n",
    "#         for nutrient in nutrients:\n",
    "#             for i, (low, high) in enumerate(utility_ranges):\n",
    "#                 if low < row[nutrient] <= high:\n",
    "#                     total_value += utility_values[i]\n",
    "#                 else:\n",
    "#                     total_value += 0.2  # Minimum utility for quantities beyond the defined ranges\n",
    "#     return total_value"
   ]
  },
  {
   "cell_type": "markdown",
   "id": "4073fd96-25c8-4a59-b648-7d72c846cf20",
   "metadata": {},
   "source": [
    "### Defining Labels for Additive Models"
   ]
  },
  {
   "cell_type": "code",
   "execution_count": 7,
   "id": "4ec83262-5400-442d-92f0-19bed19c717d",
   "metadata": {},
   "outputs": [],
   "source": [
    "def normal_model_labels(df):\n",
    "    score = df['normal_score']\n",
    "    return np.where(score < 0, 'A',\n",
    "        np.where(score < 3, 'B',\n",
    "        np.where(score < 11, 'C',\n",
    "        np.where(score < 19, 'D',\n",
    "        np.where(score <= 40, 'E', 'ERROR')))))"
   ]
  },
  {
   "cell_type": "code",
   "execution_count": 8,
   "id": "24b58092-5513-4b30-a069-2bf4a40c34fe",
   "metadata": {},
   "outputs": [],
   "source": [
    "# def utility_model_1_labels(df):\n",
    "#     score = df['utility_score_1']\n",
    "#     return np.where(score < 0.2, 'A',\n",
    "#         np.where(score < 0.4, 'B',\n",
    "#         np.where(score < 0.6, 'C',\n",
    "#         np.where(score < 0.8, 'D',\n",
    "#         np.where(score <= 1, 'E', 'ERROR')))))\n",
    "\n",
    "# def utility_model_2_labels(df):\n",
    "#     score = df['utility_score_2']\n",
    "#     return np.where(score < 0.2, 'A',\n",
    "#         np.where(score < 0.4, 'B',\n",
    "#         np.where(score < 0.6, 'C',\n",
    "#         np.where(score < 0.8, 'D',\n",
    "#         np.where(score <= 1, 'E', 'ERROR')))))"
   ]
  },
  {
   "cell_type": "markdown",
   "id": "dbe57b70-6c92-4fa0-aaee-31d5f1559145",
   "metadata": {},
   "source": [
    "### Working on data"
   ]
  },
  {
   "cell_type": "code",
   "execution_count": 9,
   "id": "d2500cc8-34a2-40d7-af3b-693051e2f039",
   "metadata": {},
   "outputs": [
    {
     "data": {
      "text/html": [
       "<div>\n",
       "<style scoped>\n",
       "    .dataframe tbody tr th:only-of-type {\n",
       "        vertical-align: middle;\n",
       "    }\n",
       "\n",
       "    .dataframe tbody tr th {\n",
       "        vertical-align: top;\n",
       "    }\n",
       "\n",
       "    .dataframe thead th {\n",
       "        text-align: right;\n",
       "    }\n",
       "</style>\n",
       "<table border=\"1\" class=\"dataframe\">\n",
       "  <thead>\n",
       "    <tr style=\"text-align: right;\">\n",
       "      <th></th>\n",
       "      <th>id</th>\n",
       "      <th>image_url</th>\n",
       "      <th>brands</th>\n",
       "      <th>pnns_groups_2</th>\n",
       "      <th>negative_points</th>\n",
       "      <th>positive_points</th>\n",
       "      <th>energy_points</th>\n",
       "      <th>sugars_points</th>\n",
       "      <th>sodium_points</th>\n",
       "      <th>saturated_fat_points</th>\n",
       "      <th>proteins_points</th>\n",
       "      <th>fiber_points</th>\n",
       "      <th>fruits_vegetables_nuts_colza_walnut_olive_oils_points</th>\n",
       "      <th>nutrition_score_fr</th>\n",
       "    </tr>\n",
       "  </thead>\n",
       "  <tbody>\n",
       "    <tr>\n",
       "      <th>0</th>\n",
       "      <td>4.000418e+12</td>\n",
       "      <td>https://images.openfoodfacts.org/images/produc...</td>\n",
       "      <td>Ritter Sport</td>\n",
       "      <td>Chocolate products</td>\n",
       "      <td>22.0</td>\n",
       "      <td>0.0</td>\n",
       "      <td>7.0</td>\n",
       "      <td>5.0</td>\n",
       "      <td>0.0</td>\n",
       "      <td>10.0</td>\n",
       "      <td>0.0</td>\n",
       "      <td>0.0</td>\n",
       "      <td>0.0</td>\n",
       "      <td>22.0</td>\n",
       "    </tr>\n",
       "    <tr>\n",
       "      <th>1</th>\n",
       "      <td>4.260402e+12</td>\n",
       "      <td>https://images.openfoodfacts.org/images/produc...</td>\n",
       "      <td>Veganz</td>\n",
       "      <td>Chocolate products</td>\n",
       "      <td>25.0</td>\n",
       "      <td>0.0</td>\n",
       "      <td>7.0</td>\n",
       "      <td>8.0</td>\n",
       "      <td>0.0</td>\n",
       "      <td>10.0</td>\n",
       "      <td>0.0</td>\n",
       "      <td>0.0</td>\n",
       "      <td>0.0</td>\n",
       "      <td>25.0</td>\n",
       "    </tr>\n",
       "  </tbody>\n",
       "</table>\n",
       "</div>"
      ],
      "text/plain": [
       "             id                                          image_url  \\\n",
       "0  4.000418e+12  https://images.openfoodfacts.org/images/produc...   \n",
       "1  4.260402e+12  https://images.openfoodfacts.org/images/produc...   \n",
       "\n",
       "         brands       pnns_groups_2  negative_points  positive_points  \\\n",
       "0  Ritter Sport  Chocolate products             22.0              0.0   \n",
       "1        Veganz  Chocolate products             25.0              0.0   \n",
       "\n",
       "   energy_points  sugars_points  sodium_points  saturated_fat_points  \\\n",
       "0            7.0            5.0            0.0                  10.0   \n",
       "1            7.0            8.0            0.0                  10.0   \n",
       "\n",
       "   proteins_points  fiber_points  \\\n",
       "0              0.0           0.0   \n",
       "1              0.0           0.0   \n",
       "\n",
       "   fruits_vegetables_nuts_colza_walnut_olive_oils_points  nutrition_score_fr  \n",
       "0                                                0.0                    22.0  \n",
       "1                                                0.0                    25.0  "
      ]
     },
     "execution_count": 9,
     "metadata": {},
     "output_type": "execute_result"
    }
   ],
   "source": [
    "df = pd.read_csv('../data/preprocessed_data1.csv')\n",
    "df.head(2)"
   ]
  },
  {
   "cell_type": "code",
   "execution_count": 10,
   "id": "68ccef7b-99d0-4ccb-91e5-e3c2ae8122e5",
   "metadata": {},
   "outputs": [
    {
     "data": {
      "text/html": [
       "<div>\n",
       "<style scoped>\n",
       "    .dataframe tbody tr th:only-of-type {\n",
       "        vertical-align: middle;\n",
       "    }\n",
       "\n",
       "    .dataframe tbody tr th {\n",
       "        vertical-align: top;\n",
       "    }\n",
       "\n",
       "    .dataframe thead th {\n",
       "        text-align: right;\n",
       "    }\n",
       "</style>\n",
       "<table border=\"1\" class=\"dataframe\">\n",
       "  <thead>\n",
       "    <tr style=\"text-align: right;\">\n",
       "      <th></th>\n",
       "      <th>id</th>\n",
       "      <th>image_url</th>\n",
       "      <th>brands</th>\n",
       "      <th>pnns_groups_2</th>\n",
       "      <th>negative_points</th>\n",
       "      <th>positive_points</th>\n",
       "      <th>energy_points</th>\n",
       "      <th>sugars_points</th>\n",
       "      <th>sodium_points</th>\n",
       "      <th>saturated_fat_points</th>\n",
       "      <th>proteins_points</th>\n",
       "      <th>fiber_points</th>\n",
       "      <th>fruits_vegetables_nuts_colza_walnut_olive_oils_points</th>\n",
       "      <th>nutrition_score_fr</th>\n",
       "    </tr>\n",
       "  </thead>\n",
       "  <tbody>\n",
       "    <tr>\n",
       "      <th>0</th>\n",
       "      <td>4.000418e+12</td>\n",
       "      <td>https://images.openfoodfacts.org/images/produc...</td>\n",
       "      <td>Ritter Sport</td>\n",
       "      <td>Chocolate products</td>\n",
       "      <td>22.0</td>\n",
       "      <td>0.0</td>\n",
       "      <td>3.0</td>\n",
       "      <td>5.0</td>\n",
       "      <td>10.0</td>\n",
       "      <td>0.0</td>\n",
       "      <td>0.0</td>\n",
       "      <td>0.0</td>\n",
       "      <td>0.0</td>\n",
       "      <td>22.0</td>\n",
       "    </tr>\n",
       "    <tr>\n",
       "      <th>1</th>\n",
       "      <td>4.260402e+12</td>\n",
       "      <td>https://images.openfoodfacts.org/images/produc...</td>\n",
       "      <td>Veganz</td>\n",
       "      <td>Chocolate products</td>\n",
       "      <td>25.0</td>\n",
       "      <td>0.0</td>\n",
       "      <td>3.0</td>\n",
       "      <td>2.0</td>\n",
       "      <td>10.0</td>\n",
       "      <td>0.0</td>\n",
       "      <td>0.0</td>\n",
       "      <td>0.0</td>\n",
       "      <td>0.0</td>\n",
       "      <td>25.0</td>\n",
       "    </tr>\n",
       "  </tbody>\n",
       "</table>\n",
       "</div>"
      ],
      "text/plain": [
       "             id                                          image_url  \\\n",
       "0  4.000418e+12  https://images.openfoodfacts.org/images/produc...   \n",
       "1  4.260402e+12  https://images.openfoodfacts.org/images/produc...   \n",
       "\n",
       "         brands       pnns_groups_2  negative_points  positive_points  \\\n",
       "0  Ritter Sport  Chocolate products             22.0              0.0   \n",
       "1        Veganz  Chocolate products             25.0              0.0   \n",
       "\n",
       "   energy_points  sugars_points  sodium_points  saturated_fat_points  \\\n",
       "0            3.0            5.0           10.0                   0.0   \n",
       "1            3.0            2.0           10.0                   0.0   \n",
       "\n",
       "   proteins_points  fiber_points  \\\n",
       "0              0.0           0.0   \n",
       "1              0.0           0.0   \n",
       "\n",
       "   fruits_vegetables_nuts_colza_walnut_olive_oils_points  nutrition_score_fr  \n",
       "0                                                0.0                    22.0  \n",
       "1                                                0.0                    25.0  "
      ]
     },
     "execution_count": 10,
     "metadata": {},
     "output_type": "execute_result"
    }
   ],
   "source": [
    "df = new_scale_transform(df)\n",
    "df.head(2)"
   ]
  },
  {
   "cell_type": "code",
   "execution_count": 11,
   "id": "a0a6ed4b-f44b-4c74-a095-ef40dee9d9f2",
   "metadata": {},
   "outputs": [],
   "source": [
    "# calculate score using normal model\n",
    "df['normal_score'] = normal_model(df)\n",
    "\n",
    "# calculate score using marginal utility models\n",
    "# df['utility_score_1'] = utility_model_1(df)\n",
    "# df['utility_score_2'] = utility_model_2(df)"
   ]
  },
  {
   "cell_type": "code",
   "execution_count": 12,
   "id": "365d0628-594e-4e03-9acb-08e859219537",
   "metadata": {},
   "outputs": [],
   "source": [
    "# assign label for normal model\n",
    "df['normal_label'] = normal_model_labels(df)\n",
    "\n",
    "# assign label for marginal utility models\n",
    "# df['utility_label_1'] = utility_model_1_labels(df)\n",
    "# df['utility_label_2'] = utility_model_2_labels(df)"
   ]
  },
  {
   "cell_type": "markdown",
   "id": "82db2686-0530-47eb-8a8b-93a8b5d4ac7c",
   "metadata": {},
   "source": [
    "### Checking and comparing different additive models"
   ]
  },
  {
   "cell_type": "code",
   "execution_count": 13,
   "id": "f12cf5e4-7391-45ab-af20-62d13c235e2a",
   "metadata": {},
   "outputs": [
    {
     "data": {
      "text/plain": [
       "True    152\n",
       "Name: normal_score_matching_nutriscore, dtype: int64"
      ]
     },
     "execution_count": 13,
     "metadata": {},
     "output_type": "execute_result"
    }
   ],
   "source": [
    "df['normal_score_matching_nutriscore'] = df.apply(lambda x: x[\"normal_score\"] == int(x[\"nutrition_score_fr\"]), axis = 1)\n",
    "df['normal_score_matching_nutriscore'].value_counts()"
   ]
  },
  {
   "cell_type": "code",
   "execution_count": 14,
   "id": "e43bf9ee-b81b-4c5c-8096-6993e8981aee",
   "metadata": {},
   "outputs": [],
   "source": [
    "# compare = pd.DataFrame(df['normal_label'].value_counts())\n",
    "# compare['utility_label_1'] = df['utility_label_1'].value_counts()\n",
    "# compare['utility_label_2'] = df['utility_label_2'].value_counts()\n",
    "# compare['Labels'] = compare.index\n",
    "\n",
    "# fig, ax = plt.subplots()\n",
    "# compare.plot(x = 'Labels', y = ['normal_label', 'utility_label_1', 'utility_label_2'], kind=\"bar\", ax=ax, title=\"Classification of products with three different additive models\")\n",
    "# ax.legend([\"Normal Model\", \"Utility Model 1\", \"Utility Model 2\"]);"
   ]
  }
 ],
 "metadata": {
  "kernelspec": {
   "display_name": "Python 3 (ipykernel)",
   "language": "python",
   "name": "python3"
  },
  "language_info": {
   "codemirror_mode": {
    "name": "ipython",
    "version": 3
   },
   "file_extension": ".py",
   "mimetype": "text/x-python",
   "name": "python",
   "nbconvert_exporter": "python",
   "pygments_lexer": "ipython3",
   "version": "3.9.6"
  }
 },
 "nbformat": 4,
 "nbformat_minor": 5
}
