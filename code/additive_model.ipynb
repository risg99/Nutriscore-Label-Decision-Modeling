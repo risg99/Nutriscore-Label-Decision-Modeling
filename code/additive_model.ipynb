{
 "cells": [
  {
   "cell_type": "code",
   "execution_count": 1,
   "id": "9dd10254-9abf-4271-85c8-283ea605f9dc",
   "metadata": {},
   "outputs": [],
   "source": [
    "# !pip install -r ../requirements.txt"
   ]
  },
  {
   "cell_type": "code",
   "execution_count": 2,
   "id": "6d275a5c-0c6b-4aa6-94bb-304d6a4b3fd8",
   "metadata": {},
   "outputs": [],
   "source": [
    "import pandas as pd\n",
    "import numpy as np\n",
    "import matplotlib.pyplot as plt"
   ]
  },
  {
   "cell_type": "markdown",
   "metadata": {},
   "source": [
    "Calculate the Point score"
   ]
  },
  {
   "cell_type": "code",
   "execution_count": 3,
   "metadata": {},
   "outputs": [],
   "source": [
    "def get_points(bounds, value, fruit_flag=False):\n",
    "    if fruit_flag:\n",
    "        if value > 80:\n",
    "            return 5\n",
    "    for i in range(len(bounds) - 1):\n",
    "        if bounds[i] < value <= bounds[i + 1]:\n",
    "            return i\n",
    "    return len(bounds) - 1 if value > bounds[-1] else 0"
   ]
  },
  {
   "cell_type": "code",
   "execution_count": 4,
   "metadata": {},
   "outputs": [],
   "source": [
    "def CalculatePoints(product):\n",
    "    '''\n",
    "    Define the bounds for each of the four categories for negative nutrients and positive nutrients\n",
    "    '''\n",
    "    # negative nutrients: energy, sugar, sodium, saturated fatty acid\n",
    "    energy_bounds = [0, 335, 670, 1005, 1340, 1675, 2010, 2345, 2680, 3015, 3350]\n",
    "    sugars_bounds = [0, 4.5, 9, 13.5, 18, 22.5, 27, 31.5, 36, 40.5, 45]\n",
    "    sodium_bounds = [0, 90, 180, 270, 360, 450, 540, 630, 720, 810, 900]\n",
    "    saturated_fatty_acid_bounds = [0, 1, 2, 3, 4, 5, 6, 7, 8, 9, 10]\n",
    "    # positive nutrients: fruit, fiber, protein\n",
    "    fruit_bounds = [0, 40, 60, 80, 100]\n",
    "    fiber_bounds = [0, 0.9, 1.9, 2.8, 3.7, 4.7]\n",
    "    proteins_bounds = [0, 1.6, 3.2, 4.8, 6.4, 8.0]\n",
    "\n",
    "    # Find the points for each of the four categories for negative nutrients\n",
    "    energy_points = get_points(energy_bounds, product['energy-kj_100g'])\n",
    "    sugars_points = get_points(sugars_bounds, product['sugars_100g'])\n",
    "    sodium_points = get_points(sodium_bounds, product['sodium_100g'])\n",
    "    saturated_fatty_acid_points = get_points(saturated_fatty_acid_bounds, product['saturated-fat_100g'])\n",
    "\n",
    "    # find the points for the positive nutrients\n",
    "    fruit_points = get_points(fruit_bounds, product['fruits-vegetables-nuts-estimate-from-ingredients_100g'], fruit_flag=True)\n",
    "    fiber_points = get_points(fiber_bounds, product['fiber_100g'])\n",
    "    protein_points = get_points(proteins_bounds, product['proteins_100g'])\n",
    "\n",
    "    # append the points to the dataframe\n",
    "    product['energy_points'] = energy_points\n",
    "    product['sugars_points'] = sugars_points\n",
    "    product['sodium_points'] = sodium_points\n",
    "    product['saturated_fat_points'] = saturated_fatty_acid_points\n",
    "    product['fruit_points'] = fruit_points\n",
    "    product['fiber_points'] = fiber_points\n",
    "    product['proteins_points'] = protein_points"
   ]
  },
  {
   "cell_type": "markdown",
   "id": "c7941c05-d868-40ef-8f08-b90c53100030",
   "metadata": {},
   "source": [
    "### Defining criteria"
   ]
  },
  {
   "cell_type": "code",
   "execution_count": 5,
   "id": "6ce4706a-49b1-4a9b-935f-d89e1580e27c",
   "metadata": {},
   "outputs": [],
   "source": [
    "en = \"energy_points\"\n",
    "su = \"sugars_points\"\n",
    "fa = \"saturated_fat_points\"\n",
    "sa = \"sodium_points\"\n",
    "pr = \"proteins_points\"\n",
    "fi = \"fiber_points\"\n",
    "fr = \"fruit_points\"\n",
    "\n",
    "criteria_to_minimize = {en, su, fa, sa}\n",
    "criteria_to_maximize = {pr, fi, fr}"
   ]
  },
  {
   "cell_type": "markdown",
   "id": "dc41b74b-eea1-43c0-a678-84fec27d49f4",
   "metadata": {},
   "source": [
    "### Defining Additive Models"
   ]
  },
  {
   "cell_type": "code",
   "execution_count": 6,
   "id": "613cca50-4ec6-4007-b861-758d1f7ff185",
   "metadata": {},
   "outputs": [],
   "source": [
    "# Additive model \n",
    "def new_scale_transform(df):\n",
    "    \"\"\"\n",
    "    Defines a new transformed scale for each criterion:\n",
    "    1. x'_i = 10 - x_i for the criteria to be minimized i ∈ {en, su, fa, sa}\n",
    "    2. x'_i = 2 * x_i for the criteria to be maximized i ∈ {pr, fi, fr}\n",
    "    \"\"\"\n",
    "    for column in df.columns:\n",
    "        if column in criteria_to_minimize:\n",
    "            df[column] = 10 - df[column]\n",
    "        elif column in criteria_to_maximize:\n",
    "            df[column] = 2 * df[column]\n",
    "    return df"
   ]
  },
  {
   "cell_type": "code",
   "execution_count": 7,
   "id": "453fb4bf-6ed9-4b34-9f77-ba56fa9b3f30",
   "metadata": {},
   "outputs": [],
   "source": [
    "def our_model(df):\n",
    "    # 40 − F(x) = 40 - F(x'_en, x'_su, x'_fa, x'_sa, x'_pr, x'_fi, x'_fr) = 40 - x'_en + x'_su + x'_fa + x'_sa + 1/2(x'_pr + x'_fi) + x'fr\n",
    "    return 40 - (0.5*df[en] + 0.1*df[su] + 0.4*df[fa] + 0.05*df[sa] - (0.3*df[pr] + 0.2*df[fi] + 0.001*df[fr]))"
   ]
  },
  {
   "cell_type": "markdown",
   "id": "4073fd96-25c8-4a59-b648-7d72c846cf20",
   "metadata": {},
   "source": [
    "### Defining Labels for Additive Models"
   ]
  },
  {
   "cell_type": "code",
   "execution_count": 8,
   "id": "4ec83262-5400-442d-92f0-19bed19c717d",
   "metadata": {},
   "outputs": [],
   "source": [
    "def normal_model_labels(df):\n",
    "    score = df['our_nutrition_score']\n",
    "    def solid_food_labels(score):\n",
    "        return np.where(score < 0, 'a',\n",
    "                        np.where(score < 3, 'a',\n",
    "                                 np.where(score < 11, 'c',\n",
    "                                          np.where(score < 19, 'd',\n",
    "                                                   np.where(score <= 40, 'e', 'ERROR')))))\n",
    "\n",
    "    def beverage_labels(score):\n",
    "        return np.where(score < 1, 'a',\n",
    "                        np.where(score < 2, 'b',\n",
    "                                 np.where(score < 6, 'c',\n",
    "                                          np.where(score < 10, 'd',\n",
    "                                                   np.where(score <= 40, 'e', 'ERROR')))))\n",
    "    # Applying labels based on 'is_beverage' column\n",
    "    labels = np.where(df['is_beverage'] == 'Y',\n",
    "                      solid_food_labels(df['our_total_points']),\n",
    "                      beverage_labels(df['our_total_points']))\n",
    "\n",
    "    return labels"
   ]
  },
  {
   "cell_type": "markdown",
   "id": "dbe57b70-6c92-4fa0-aaee-31d5f1559145",
   "metadata": {},
   "source": [
    "### Working on data"
   ]
  },
  {
   "cell_type": "code",
   "execution_count": 9,
   "id": "d2500cc8-34a2-40d7-af3b-693051e2f039",
   "metadata": {},
   "outputs": [],
   "source": [
    "df = pd.read_csv('../data/preprocessed_data_points.csv')"
   ]
  },
  {
   "cell_type": "code",
   "execution_count": 10,
   "id": "68ccef7b-99d0-4ccb-91e5-e3c2ae8122e5",
   "metadata": {},
   "outputs": [
    {
     "data": {
      "text/html": [
       "<div>\n",
       "<style scoped>\n",
       "    .dataframe tbody tr th:only-of-type {\n",
       "        vertical-align: middle;\n",
       "    }\n",
       "\n",
       "    .dataframe tbody tr th {\n",
       "        vertical-align: top;\n",
       "    }\n",
       "\n",
       "    .dataframe thead th {\n",
       "        text-align: right;\n",
       "    }\n",
       "</style>\n",
       "<table border=\"1\" class=\"dataframe\">\n",
       "  <thead>\n",
       "    <tr style=\"text-align: right;\">\n",
       "      <th></th>\n",
       "      <th>_id</th>\n",
       "      <th>image_url</th>\n",
       "      <th>brands</th>\n",
       "      <th>is_beverage</th>\n",
       "      <th>pnns_groups_2</th>\n",
       "      <th>energy-kj_100g</th>\n",
       "      <th>sugars_100g</th>\n",
       "      <th>salt_100g</th>\n",
       "      <th>saturated-fat_100g</th>\n",
       "      <th>proteins_100g</th>\n",
       "      <th>...</th>\n",
       "      <th>negative_points</th>\n",
       "      <th>positive_points</th>\n",
       "      <th>energy_points</th>\n",
       "      <th>sugars_points</th>\n",
       "      <th>sodium_points</th>\n",
       "      <th>saturated_fat_points</th>\n",
       "      <th>fruit_points</th>\n",
       "      <th>fiber_points</th>\n",
       "      <th>proteins_points</th>\n",
       "      <th>our_total_points</th>\n",
       "    </tr>\n",
       "  </thead>\n",
       "  <tbody>\n",
       "    <tr>\n",
       "      <th>0</th>\n",
       "      <td>4.000522e+12</td>\n",
       "      <td>https://images.openfoodfacts.org/images/produc...</td>\n",
       "      <td>Pombär, Intersnack Deutschland SE</td>\n",
       "      <td>N</td>\n",
       "      <td>Appetizers</td>\n",
       "      <td>2142.0</td>\n",
       "      <td>1.3</td>\n",
       "      <td>1.5</td>\n",
       "      <td>2.5</td>\n",
       "      <td>3.0</td>\n",
       "      <td>...</td>\n",
       "      <td>10.0</td>\n",
       "      <td>5.0</td>\n",
       "      <td>4</td>\n",
       "      <td>10</td>\n",
       "      <td>4</td>\n",
       "      <td>8</td>\n",
       "      <td>0</td>\n",
       "      <td>2</td>\n",
       "      <td>2</td>\n",
       "      <td>12</td>\n",
       "    </tr>\n",
       "    <tr>\n",
       "      <th>1</th>\n",
       "      <td>4.003586e+12</td>\n",
       "      <td>https://images.openfoodfacts.org/images/produc...</td>\n",
       "      <td>funny-frisch Diverse</td>\n",
       "      <td>N</td>\n",
       "      <td>Appetizers</td>\n",
       "      <td>2209.0</td>\n",
       "      <td>2.5</td>\n",
       "      <td>1.6</td>\n",
       "      <td>3.0</td>\n",
       "      <td>6.1</td>\n",
       "      <td>...</td>\n",
       "      <td>9.0</td>\n",
       "      <td>10.0</td>\n",
       "      <td>4</td>\n",
       "      <td>10</td>\n",
       "      <td>3</td>\n",
       "      <td>8</td>\n",
       "      <td>0</td>\n",
       "      <td>8</td>\n",
       "      <td>6</td>\n",
       "      <td>8</td>\n",
       "    </tr>\n",
       "  </tbody>\n",
       "</table>\n",
       "<p>2 rows × 25 columns</p>\n",
       "</div>"
      ],
      "text/plain": [
       "            _id                                          image_url  \\\n",
       "0  4.000522e+12  https://images.openfoodfacts.org/images/produc...   \n",
       "1  4.003586e+12  https://images.openfoodfacts.org/images/produc...   \n",
       "\n",
       "                              brands is_beverage pnns_groups_2  \\\n",
       "0  Pombär, Intersnack Deutschland SE           N    Appetizers   \n",
       "1               funny-frisch Diverse           N    Appetizers   \n",
       "\n",
       "   energy-kj_100g  sugars_100g  salt_100g  saturated-fat_100g  proteins_100g  \\\n",
       "0          2142.0          1.3        1.5                 2.5            3.0   \n",
       "1          2209.0          2.5        1.6                 3.0            6.1   \n",
       "\n",
       "   ...  negative_points  positive_points  energy_points  sugars_points  \\\n",
       "0  ...             10.0              5.0              4             10   \n",
       "1  ...              9.0             10.0              4             10   \n",
       "\n",
       "  sodium_points  saturated_fat_points  fruit_points  fiber_points  \\\n",
       "0             4                     8             0             2   \n",
       "1             3                     8             0             8   \n",
       "\n",
       "   proteins_points  our_total_points  \n",
       "0                2                12  \n",
       "1                6                 8  \n",
       "\n",
       "[2 rows x 25 columns]"
      ]
     },
     "execution_count": 10,
     "metadata": {},
     "output_type": "execute_result"
    }
   ],
   "source": [
    "df = new_scale_transform(df)\n",
    "df.head(2)"
   ]
  },
  {
   "cell_type": "code",
   "execution_count": 11,
   "id": "a0a6ed4b-f44b-4c74-a095-ef40dee9d9f2",
   "metadata": {},
   "outputs": [],
   "source": [
    "# calculate score using normal model\n",
    "df['our_nutrition_score'] = our_model(df)"
   ]
  },
  {
   "cell_type": "code",
   "execution_count": 12,
   "id": "365d0628-594e-4e03-9acb-08e859219537",
   "metadata": {},
   "outputs": [],
   "source": [
    "# assign label for normal model\n",
    "df['our_nutrition_label'] = normal_model_labels(df)"
   ]
  },
  {
   "cell_type": "code",
   "execution_count": 13,
   "metadata": {},
   "outputs": [
    {
     "data": {
      "text/html": [
       "<div>\n",
       "<style scoped>\n",
       "    .dataframe tbody tr th:only-of-type {\n",
       "        vertical-align: middle;\n",
       "    }\n",
       "\n",
       "    .dataframe tbody tr th {\n",
       "        vertical-align: top;\n",
       "    }\n",
       "\n",
       "    .dataframe thead th {\n",
       "        text-align: right;\n",
       "    }\n",
       "</style>\n",
       "<table border=\"1\" class=\"dataframe\">\n",
       "  <thead>\n",
       "    <tr style=\"text-align: right;\">\n",
       "      <th></th>\n",
       "      <th>_id</th>\n",
       "      <th>image_url</th>\n",
       "      <th>brands</th>\n",
       "      <th>is_beverage</th>\n",
       "      <th>pnns_groups_2</th>\n",
       "      <th>energy-kj_100g</th>\n",
       "      <th>sugars_100g</th>\n",
       "      <th>salt_100g</th>\n",
       "      <th>saturated-fat_100g</th>\n",
       "      <th>proteins_100g</th>\n",
       "      <th>...</th>\n",
       "      <th>energy_points</th>\n",
       "      <th>sugars_points</th>\n",
       "      <th>sodium_points</th>\n",
       "      <th>saturated_fat_points</th>\n",
       "      <th>fruit_points</th>\n",
       "      <th>fiber_points</th>\n",
       "      <th>proteins_points</th>\n",
       "      <th>our_total_points</th>\n",
       "      <th>our_nutrition_score</th>\n",
       "      <th>our_nutrition_label</th>\n",
       "    </tr>\n",
       "  </thead>\n",
       "  <tbody>\n",
       "    <tr>\n",
       "      <th>0</th>\n",
       "      <td>4.000522e+12</td>\n",
       "      <td>https://images.openfoodfacts.org/images/produc...</td>\n",
       "      <td>Pombär, Intersnack Deutschland SE</td>\n",
       "      <td>N</td>\n",
       "      <td>Appetizers</td>\n",
       "      <td>2142.0</td>\n",
       "      <td>1.3</td>\n",
       "      <td>1.5</td>\n",
       "      <td>2.5</td>\n",
       "      <td>3.0</td>\n",
       "      <td>...</td>\n",
       "      <td>4</td>\n",
       "      <td>10</td>\n",
       "      <td>4</td>\n",
       "      <td>8</td>\n",
       "      <td>0</td>\n",
       "      <td>2</td>\n",
       "      <td>2</td>\n",
       "      <td>12</td>\n",
       "      <td>34.60</td>\n",
       "      <td>e</td>\n",
       "    </tr>\n",
       "    <tr>\n",
       "      <th>1</th>\n",
       "      <td>4.003586e+12</td>\n",
       "      <td>https://images.openfoodfacts.org/images/produc...</td>\n",
       "      <td>funny-frisch Diverse</td>\n",
       "      <td>N</td>\n",
       "      <td>Appetizers</td>\n",
       "      <td>2209.0</td>\n",
       "      <td>2.5</td>\n",
       "      <td>1.6</td>\n",
       "      <td>3.0</td>\n",
       "      <td>6.1</td>\n",
       "      <td>...</td>\n",
       "      <td>4</td>\n",
       "      <td>10</td>\n",
       "      <td>3</td>\n",
       "      <td>8</td>\n",
       "      <td>0</td>\n",
       "      <td>8</td>\n",
       "      <td>6</td>\n",
       "      <td>8</td>\n",
       "      <td>37.05</td>\n",
       "      <td>d</td>\n",
       "    </tr>\n",
       "  </tbody>\n",
       "</table>\n",
       "<p>2 rows × 27 columns</p>\n",
       "</div>"
      ],
      "text/plain": [
       "            _id                                          image_url  \\\n",
       "0  4.000522e+12  https://images.openfoodfacts.org/images/produc...   \n",
       "1  4.003586e+12  https://images.openfoodfacts.org/images/produc...   \n",
       "\n",
       "                              brands is_beverage pnns_groups_2  \\\n",
       "0  Pombär, Intersnack Deutschland SE           N    Appetizers   \n",
       "1               funny-frisch Diverse           N    Appetizers   \n",
       "\n",
       "   energy-kj_100g  sugars_100g  salt_100g  saturated-fat_100g  proteins_100g  \\\n",
       "0          2142.0          1.3        1.5                 2.5            3.0   \n",
       "1          2209.0          2.5        1.6                 3.0            6.1   \n",
       "\n",
       "   ...  energy_points  sugars_points  sodium_points  saturated_fat_points  \\\n",
       "0  ...              4             10              4                     8   \n",
       "1  ...              4             10              3                     8   \n",
       "\n",
       "  fruit_points  fiber_points  proteins_points  our_total_points  \\\n",
       "0            0             2                2                12   \n",
       "1            0             8                6                 8   \n",
       "\n",
       "   our_nutrition_score  our_nutrition_label  \n",
       "0                34.60                    e  \n",
       "1                37.05                    d  \n",
       "\n",
       "[2 rows x 27 columns]"
      ]
     },
     "execution_count": 13,
     "metadata": {},
     "output_type": "execute_result"
    }
   ],
   "source": [
    "df.head(2)"
   ]
  },
  {
   "cell_type": "code",
   "execution_count": 14,
   "metadata": {},
   "outputs": [
    {
     "data": {
      "text/plain": [
       "nutrition_grade_fr\n",
       "b    34\n",
       "a    34\n",
       "c    31\n",
       "d    19\n",
       "e     6\n",
       "Name: count, dtype: int64"
      ]
     },
     "execution_count": 14,
     "metadata": {},
     "output_type": "execute_result"
    }
   ],
   "source": [
    "df['nutrition_grade_fr'].value_counts()"
   ]
  },
  {
   "cell_type": "code",
   "execution_count": 15,
   "metadata": {},
   "outputs": [
    {
     "data": {
      "text/plain": [
       "our_nutrition_label\n",
       "a    58\n",
       "c    25\n",
       "e    18\n",
       "d    13\n",
       "b    10\n",
       "Name: count, dtype: int64"
      ]
     },
     "execution_count": 15,
     "metadata": {},
     "output_type": "execute_result"
    }
   ],
   "source": [
    "df['our_nutrition_label'].value_counts()"
   ]
  },
  {
   "cell_type": "markdown",
   "id": "82db2686-0530-47eb-8a8b-93a8b5d4ac7c",
   "metadata": {},
   "source": [
    "### Checking and comparing different additive models"
   ]
  },
  {
   "cell_type": "code",
   "execution_count": 16,
   "id": "e43bf9ee-b81b-4c5c-8096-6993e8981aee",
   "metadata": {},
   "outputs": [
    {
     "data": {
      "image/png": "[encoded data removed]",
      "text/plain": [
       "<Figure size 640x480 with 1 Axes>"
      ]
     },
     "metadata": {},
     "output_type": "display_data"
    }
   ],
   "source": [
    "compare = pd.DataFrame(df['our_nutrition_label'].value_counts())\n",
    "compare['our_nutrition_label'] = pd.DataFrame(df['our_nutrition_label'].value_counts())\n",
    "compare['original_label'] = df['nutrition_grade_fr'].value_counts()\n",
    "compare['Labels'] = compare.index\n",
    "compare.sort_index(inplace = True)\n",
    "\n",
    "fig, ax = plt.subplots()\n",
    "compare.plot(x = 'Labels', y = ['our_nutrition_label', 'original_label'], kind=\"bar\", ax=ax, title=\"Classification of products with different additive models\")\n",
    "ax.legend([\"Our Model\",\"Original Model\"])\n",
    "\n",
    "for i, val in enumerate(compare['our_nutrition_label']):\n",
    "    ax.text(i, val, str(val), ha='right', va='bottom')\n",
    "\n",
    "for i, val in enumerate(compare['original_label']):\n",
    "    ax.text(i, val, str(val), ha='left', va='bottom')\n",
    "\n",
    "plt.show()"
   ]
  }
 ],
 "metadata": {
  "kernelspec": {
   "display_name": "Python 3 (ipykernel)",
   "language": "python",
   "name": "python3"
  },
  "language_info": {
   "codemirror_mode": {
    "name": "ipython",
    "version": 3
   },
   "file_extension": ".py",
   "mimetype": "text/x-python",
   "name": "python",
   "nbconvert_exporter": "python",
   "pygments_lexer": "ipython3",
   "version": "3.11.5"
  }
 },
 "nbformat": 4,
 "nbformat_minor": 5
}
